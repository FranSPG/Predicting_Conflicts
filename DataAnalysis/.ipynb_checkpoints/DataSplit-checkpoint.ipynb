{
 "cells": [
  {
   "cell_type": "code",
   "execution_count": 1,
   "metadata": {},
   "outputs": [
    {
     "name": "stderr",
     "output_type": "stream",
     "text": [
      "C:\\ProgramData\\Anaconda3\\lib\\site-packages\\sklearn\\ensemble\\weight_boosting.py:29: DeprecationWarning: numpy.core.umath_tests is an internal NumPy module and should not be imported. It will be removed in a future NumPy release.\n",
      "  from numpy.core.umath_tests import inner1d\n"
     ]
    }
   ],
   "source": [
    "import sys\n",
    "sys.path.insert(0, 'C:/Users/Franco/Documents/AnacondaProjects/Predicting_Conflicts')\n",
    "from Libs import *"
   ]
  },
  {
   "cell_type": "code",
   "execution_count": 2,
   "metadata": {},
   "outputs": [],
   "source": [
    "df_final = pd.read_csv('C:/Users/Franco/Documents/AnacondaProjects/Predicting_Conflicts/DataMerge/df_final.csv', index_col=0)"
   ]
  },
  {
   "cell_type": "code",
   "execution_count": 3,
   "metadata": {},
   "outputs": [],
   "source": [
    "df_final['amount'] = df_final['amount'].fillna(0)\n",
    "df_final['conflict-1-to-3'] = df_final['conflict-1-to-3'].fillna(False)\n",
    "df_final['conflict-4-to-6'] = df_final['conflict-4-to-6'].fillna(False)\n",
    "df_final['conflict-7-to-9'] = df_final['conflict-7-to-9'].fillna(False)\n",
    "df_final['Prom Tools'] = df_final['Prom Tools'].fillna(0)\n",
    "df_final['Prom Vehicles'] = df_final['Prom Vehicles'].fillna(0)\n",
    "df_final['Prom Weapons'] = df_final['Prom Weapons'].fillna(0)\n",
    "df_final['Weapons'] = df_final['Weapons'].fillna(0)\n",
    "df_final['Vehicles'] = df_final['Vehicles'].fillna(0)\n",
    "df_final['Tools'] = df_final['Tools'].fillna(0)\n",
    "df_final['conflict'] = df_final['conflict'].fillna(False)"
   ]
  },
  {
   "cell_type": "code",
   "execution_count": 5,
   "metadata": {},
   "outputs": [],
   "source": [
    "# Mezclo el dataframe df_final y hago un slice con todos los valores que tengan el campo año < a 2017\n",
    "# El dataset de conflictos tiene información hasta el año 2016\n",
    "# El dataset de transferencias de armas tiene información hasta el año 2017\n",
    "df_mixed = pd.DataFrame(df_final[df_final['year'] < 2018].sample(frac=1))\n",
    "\n",
    "# Dataframe con el slice de los datos con la columna year > 2016\n",
    "df_to_predict = pd.DataFrame(df_final[df_final['year'] > 2016])\n",
    "df_to_predict['conflict'] = np.nan\n",
    "\n",
    "\n",
    "# Distribuyendo equitativamente los valores con conflict true y false\n",
    "# df_validation tiene un 10% del total para hacer una re validación\n",
    "\n",
    "df_mixed_true = df_mixed[df_mixed['conflict'] == True]\n",
    "df_mixed_false = df_mixed[df_mixed['conflict'] == False]\n",
    "\n",
    "ten_percent_true = int(len(df_mixed_true)*0.1)\n",
    "ten_percent_false = int(len(df_mixed_false)*0.1)\n",
    "\n",
    "df_validation = pd.DataFrame(pd.concat([df_mixed_true[:ten_percent_true], (df_mixed_false[:ten_percent_false])]))                            \n",
    "df_train_models = pd.DataFrame(pd.concat([df_mixed_true[ten_percent_true:], df_mixed_false[ten_percent_false:]]))\n",
    "\n",
    "df_validation_data = pd.DataFrame(df_validation.loc[:, ['country encoded', 'year', 'amount', 'Tools', 'Vehicles', 'Weapons', 'Prom Tools', 'Prom Vehicles', 'Prom Weapons', 'conflict-1-to-3', 'conflict-4-to-6', 'conflict-7-to-9', 'Prom USA']])\n",
    "df_validation_target = pd.DataFrame(df_validation.loc[:, ['conflict']])\n",
    "\n",
    "\n",
    "# Validacion para cuando se le pasa 1 variables de conflict\n",
    "df_data_c3_validation = pd.DataFrame(df_validation.loc[:, ['country encoded', 'year', 'amount', 'Tools', 'Vehicles', 'Weapons', 'Prom Tools', 'Prom Vehicles', 'Prom Weapons', 'conflict-1-to-3', 'Prom USA']])\n",
    "df_target_c3_validation = pd.DataFrame(df_validation.loc[:, ['conflict']])\n",
    "\n",
    "df_data_c5_validation = pd.DataFrame(df_validation.loc[:, ['country encoded', 'year', 'amount', 'Tools', 'Vehicles', 'Weapons', 'Prom Tools', 'Prom Vehicles', 'Prom Weapons', 'conflict-4-to-6', 'Prom USA']])\n",
    "df_target_c5_validation = pd.DataFrame(df_validation.loc[:, ['conflict']])\n",
    "\n",
    "df_data_c10_validation = pd.DataFrame(df_validation.loc[:, ['country encoded', 'year', 'amount', 'Tools', 'Vehicles', 'Weapons', 'Prom Tools', 'Prom Vehicles', 'Prom Weapons', 'conflict-7-to-9', 'Prom USA']])\n",
    "df_target_c10_validation = pd.DataFrame(df_validation.loc[:, ['conflict']])\n",
    "\n",
    "#df_grouped = pd.DataFrame(df_validation.loc[])"
   ]
  },
  {
   "cell_type": "code",
   "execution_count": 23,
   "metadata": {},
   "outputs": [],
   "source": [
    "df_grouped = pd.DataFrame(df_validation.loc[:, ['year', 'Tools', 'Vehicles', 'Weapons', 'amount', 'conflict', 'conflict-1-to-3', 'conflict-4-to-6', 'conflict-7-to-9', 'country encoded']])\n",
    "df_grouped['Armament'] = df_grouped[['Tools', 'Vehicles', 'Weapons']].sum(1)\n",
    "\n",
    "df_grouped_data = pd.DataFrame(df_grouped.loc[:, ['year','Armament', 'amount', 'conflict-1-to-3', 'conflict-4-to-6', 'conflict-7-to-9', 'country encoded']])\n",
    "df_grouped_target = pd.DataFrame(df_grouped.loc[:, ['conflict']])"
   ]
  },
  {
   "cell_type": "code",
   "execution_count": 8,
   "metadata": {},
   "outputs": [
    {
     "data": {
      "text/plain": [
       "False"
      ]
     },
     "execution_count": 8,
     "metadata": {},
     "output_type": "execute_result"
    }
   ],
   "source": [
    "# Verifricación que ninguna row se repite en los 2 datasets (df_validation, df_train_models)\n",
    "df_validation.index.isin(df_train_models.index).any()\n"
   ]
  },
  {
   "cell_type": "code",
   "execution_count": 21,
   "metadata": {},
   "outputs": [],
   "source": [
    "# Splits del dataframe de entrenamiento\n",
    "\n",
    "# Split con todas las variables\n",
    "X_train, X_test, y_train, y_test = train_test_split(df_train_models.loc[:, ['country encoded', 'year', 'amount', 'Tools', 'Vehicles', \n",
    "                                                                             'Weapons', 'Prom Tools', 'Prom Vehicles', 'Prom Weapons', 'conflict-1-to-3', \n",
    "                                                                             'conflict-4-to-6', 'conflict-7-to-9', 'Prom USA']],\n",
    "                                                            df_train_models.loc[:, ['conflict']],\n",
    "                                                            test_size = 0.25, random_state=np.random.randint(100000))\n",
    "\n",
    "\n",
    "# Split sin las variables conflict-3, conflict-5, conflict-10\n",
    "X_train_sin_conflictos, X_test_sin_conflictos, y_train_sin_conflictos, y_test_sin_conflictos = train_test_split(df_train_models.loc[:, ['country encoded', 'year', 'amount', 'Tools', 'Vehicles', \n",
    "                                                                                                                                         'Weapons', 'Prom Tools', 'Prom Vehicles', 'Prom Weapons', 'Prom USA']],\n",
    "                                                                                                                df_train_models.loc[:, ['conflict']],\n",
    "                                                                                                                test_size = 0.25, random_state=np.random.randint(100000))\n",
    "\n",
    "# Split unicamente con las variables conflict-3, conflict-5, conflict-10\n",
    "X_train_solo_conflictos, X_test_solo_conflictos, y_train_solo_conflictos, y_test_solo_conflictos = train_test_split(df_train_models.loc[:, ['country encoded', 'year', 'conflict-1-to-3', 'conflict-4-to-6', 'conflict-7-to-9']],\n",
    "                                                                                                                    df_train_models.loc[:, ['conflict']],\n",
    "                                                                                                                    test_size = 0.25, random_state=np.random.randint(100000))\n",
    "\n",
    "# Splits variando una sola variable de conflict-3, conflict-5, conflict-10\n",
    "X_train_c3, X_test_c3, y_train_c3, y_test_c3 = train_test_split(df_train_models.loc[:, ['country encoded', 'year', 'amount', 'Tools', 'Vehicles', \n",
    "                                                                                         'Weapons', 'Prom Tools', 'Prom Vehicles', 'Prom Weapons', 'conflict-1-to-3', \n",
    "                                                                                         'Prom USA']],\n",
    "                                                                df_train_models.loc[:, ['conflict']],\n",
    "                                                                test_size = 0.25, random_state=np.random.randint(100000))\n",
    "\n",
    "X_train_c5, X_test_c5, y_train_c5, y_test_c5 = train_test_split(df_train_models.loc[:, ['country encoded', 'year', 'amount', 'Tools', 'Vehicles', \n",
    "                                                                                         'Weapons', 'Prom Tools', 'Prom Vehicles', 'Prom Weapons', 'conflict-4-to-6', \n",
    "                                                                                         'Prom USA']],\n",
    "                                                                df_train_models.loc[:, ['conflict']],\n",
    "                                                                test_size = 0.25, random_state=np.random.randint(100000))\n",
    "\n",
    "X_train_c10, X_test_c10, y_train_c10, y_test_c10 = train_test_split(df_train_models.loc[:, ['country encoded', 'year', 'amount', 'Tools', 'Vehicles', \n",
    "                                                                                         'Weapons', 'Prom Tools', 'Prom Vehicles', 'Prom Weapons', 'conflict-7-to-9', \n",
    "                                                                                         'Prom USA']],\n",
    "                                                                df_train_models.loc[:, ['conflict']],\n",
    "                                                                test_size = 0.25, random_state=np.random.randint(100000))\n",
    "\n",
    "X_train_grouped, X_test_grouped, y_train_grouped, y_test_grouped = train_test_split(df_grouped_data,\n",
    "                                                                                   df_grouped_target,\n",
    "                                                                                   test_size = 0.25,\n",
    "                                                                                   random_state=np.random.randint(100000)) "
   ]
  },
  {
   "cell_type": "code",
   "execution_count": null,
   "metadata": {},
   "outputs": [],
   "source": []
  }
 ],
 "metadata": {
  "kernelspec": {
   "display_name": "Python 3",
   "language": "python",
   "name": "python3"
  },
  "language_info": {
   "codemirror_mode": {
    "name": "ipython",
    "version": 3
   },
   "file_extension": ".py",
   "mimetype": "text/x-python",
   "name": "python",
   "nbconvert_exporter": "python",
   "pygments_lexer": "ipython3",
   "version": "3.7.0"
  }
 },
 "nbformat": 4,
 "nbformat_minor": 2
}
