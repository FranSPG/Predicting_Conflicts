{
 "cells": [
  {
   "cell_type": "code",
   "execution_count": 1,
   "metadata": {},
   "outputs": [],
   "source": [
    "import sys\n",
    "sys.path.insert(0, 'C:/Users/Franco/Documents/AnacondaProjects/Predicting_Conflicts')\n",
    "import Libs\n",
    "from Libs import *\n",
    "sys.path.insert(0, 'C:/Users/Franco/Documents/AnacondaProjects/Predicting_Conflicts/DataAnalisys')\n",
    "from DataSplit import *\n",
    "from sklearn.metrics import f1_score"
   ]
  },
  {
   "cell_type": "code",
   "execution_count": null,
   "metadata": {},
   "outputs": [],
   "source": [
    "# Support Vector Classifier\n",
    "\n",
    "# Modelo con todas las variables\n",
    "svc = SVC(kernel='linear')\n",
    "svc.fit(X_train, y_train.values.ravel())\n",
    "\n",
    "# Modelo sin las variables conflict\n",
    "#svc_sin_conflictos = SVC()\n",
    "#svc_sin_conflictos.fit(X_train_sin_conflictos, y_train_sin_conflictos.values.ravel())\n",
    "\n",
    "# Modelo únicamente con las variables conflict\n",
    "#svc_solo_conflictos = SVC()\n",
    "#svc_solo_conflictos.fit(X_train_solo_conflictos, y_train_solo_conflictos.values.ravel())\n",
    "\n",
    "\n",
    "# Modelos con 1 variable conflicto a la vez\n",
    "\n",
    "#svc_c3 = SVC()\n",
    "#svc_c3.fit(X_train_c3, y_train_c3.values.ravel())\n",
    "\n",
    "#svc_c5 = SVC()\n",
    "#svc_c5.fit(X_train_c5, y_train_c5.values.ravel())\n",
    "\n",
    "#svc_c10 = SVC()\n",
    "#svc_c10.fit(X_train_c10, y_train_c10.values.ravel())\n"
   ]
  },
  {
   "cell_type": "code",
   "execution_count": null,
   "metadata": {},
   "outputs": [],
   "source": [
    "print(\"\\nAccuracy\\n\")\n",
    "\n",
    "y_pred_svc = svc.predict(X_test)\n",
    "y_pred_svc_sin_conflictos = svc_sin_conflictos.predict(X_test_sin_conflictos)\n",
    "y_pred_svc_solo_conflictos = svc_solo_conflictos.predict(X_test_solo_conflictos)\n",
    "print(\"\\nSupport Vector Classification\\n\\nEntero: {}\\nSin conflictos: {}\\nSolo conflictos: {}\\n\".format(accuracy_score(y_test, y_pred_svc), accuracy_score(y_test_sin_conflictos, y_pred_svc_sin_conflictos), accuracy_score(y_test_solo_conflictos, y_pred_svc_solo_conflictos)))\n",
    "\n",
    "y_pred_svc_c3 = svc_c3.predict(X_test_c3)\n",
    "y_pred_svc_c5 = svc_c5.predict(X_test_c5)\n",
    "y_pred_svc_c10 = svc_c10.predict(X_test_c10)\n",
    "print(\"Pasando de a 1 conflict a la vez:\\n\\n conflict-3: {}\\n\\n conflict-5: {}\\n\\n conflict-10: {}\\n\".format(accuracy_score(y_test_c3, y_pred_svc_c3), accuracy_score(y_test_c5, y_pred_svc_c5), accuracy_score(y_test_c10, y_pred_svc_c10)))\n",
    "\n",
    "# Accuracy con el dataframe de validación\n",
    "y_pred_svc_validation = svc.predict(df_validation_data)\n",
    "print(\"\\nSupport Vector Classification validation dataframe\\n{}\".format(accuracy_score(df_validation_target, y_pred_svc_validation)))\n",
    "\n"
   ]
  },
  {
   "cell_type": "code",
   "execution_count": null,
   "metadata": {},
   "outputs": [],
   "source": [
    "# Matriz de confusión\n",
    "cm_svc = confusion_matrix(y_test, y_pred_svc)\n",
    "print(\"\\nSVC:\\n {}\".format(cm_svc))\n",
    "\n",
    "# Matriz de confusion dataframe de validacion\n",
    "cm_svc_validation = confusion_matrix(df_validation_target, y_pred_svc_validation)\n",
    "print(\"\\nSVC validation dataframe:\\n {}\".format(cm_svc_validation))\n",
    "\n",
    "# Matriz de confusion variables conflict\n",
    "cm_svc_c3 = confusion_matrix(y_test_c3, y_pred_svc_c3)\n",
    "cm_svc_c5 = confusion_matrix(y_test_c5, y_pred_svc_c5)\n",
    "cm_svc_c10 = confusion_matrix(y_test_c10, y_pred_svc_c10)\n",
    "print(\"\\nConflict-3 \\n{}\\nConflict-5 \\n{}\\nConflict-10 \\n{}\\n\".format(cm_svc_c3, cm_svc_c5, cm_svc_c10))\n"
   ]
  },
  {
   "cell_type": "code",
   "execution_count": 54,
   "metadata": {},
   "outputs": [
    {
     "name": "stderr",
     "output_type": "stream",
     "text": [
      "C:\\Program Files (x86)\\Anaconda\\lib\\site-packages\\sklearn\\metrics\\classification.py:1135: UndefinedMetricWarning: F-score is ill-defined and being set to 0.0 due to no predicted samples.\n",
      "  'precision', 'predicted', average, warn_for)\n"
     ]
    },
    {
     "data": {
      "text/plain": [
       "0.0"
      ]
     },
     "execution_count": 54,
     "metadata": {},
     "output_type": "execute_result"
    }
   ],
   "source": [
    "#f1_score(y_test.values, y_pred_svc)\n",
    "\n",
    "f1_score(y_test, y_pred_svc, average='binary', labels=np.unique(y_pred_svc))"
   ]
  },
  {
   "cell_type": "code",
   "execution_count": 58,
   "metadata": {},
   "outputs": [
    {
     "data": {
      "text/plain": [
       "False    347\n",
       "True     102\n",
       "Name: conflict, dtype: int64"
      ]
     },
     "execution_count": 58,
     "metadata": {},
     "output_type": "execute_result"
    }
   ],
   "source": [
    "y_test['conflict'].value_counts()"
   ]
  },
  {
   "cell_type": "code",
   "execution_count": 59,
   "metadata": {},
   "outputs": [
    {
     "data": {
      "text/plain": [
       "0.22717149220489977"
      ]
     },
     "execution_count": 59,
     "metadata": {},
     "output_type": "execute_result"
    }
   ],
   "source": [
    "y_test['conflict'].mean()"
   ]
  },
  {
   "cell_type": "code",
   "execution_count": 60,
   "metadata": {},
   "outputs": [
    {
     "data": {
      "text/plain": [
       "0.7728285077951003"
      ]
     },
     "execution_count": 60,
     "metadata": {},
     "output_type": "execute_result"
    }
   ],
   "source": [
    "1 - y_test['conflict'].mean()"
   ]
  },
  {
   "cell_type": "code",
   "execution_count": 61,
   "metadata": {},
   "outputs": [
    {
     "data": {
      "text/plain": [
       "0.7728285077951003"
      ]
     },
     "execution_count": 61,
     "metadata": {},
     "output_type": "execute_result"
    }
   ],
   "source": [
    "max(y_test['conflict'].mean(), 1 - y_test['conflict'].mean())"
   ]
  },
  {
   "cell_type": "code",
   "execution_count": 68,
   "metadata": {},
   "outputs": [
    {
     "name": "stdout",
     "output_type": "stream",
     "text": [
      "True:  [False False  True False False False False False False  True False  True\n",
      "  True False False False  True  True  True False False False False  True\n",
      " False]\n",
      "Pred:  [False False False False False False False False False False False False\n",
      " False False False False False False False False False False False False\n",
      " False]\n"
     ]
    }
   ],
   "source": [
    "print ('True: ', y_test['conflict'][0:25].values)\n",
    "print ('Pred: ', y_pred_svc[0:25])\n"
   ]
  },
  {
   "cell_type": "code",
   "execution_count": null,
   "metadata": {},
   "outputs": [],
   "source": []
  }
 ],
 "metadata": {
  "kernelspec": {
   "display_name": "Python 3",
   "language": "python",
   "name": "python3"
  },
  "language_info": {
   "codemirror_mode": {
    "name": "ipython",
    "version": 3
   },
   "file_extension": ".py",
   "mimetype": "text/x-python",
   "name": "python",
   "nbconvert_exporter": "python",
   "pygments_lexer": "ipython3",
   "version": "3.7.0"
  }
 },
 "nbformat": 4,
 "nbformat_minor": 2
}
