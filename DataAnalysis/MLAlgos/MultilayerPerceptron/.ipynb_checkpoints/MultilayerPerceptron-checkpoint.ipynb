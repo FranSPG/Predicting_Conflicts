{
 "cells": [
  {
   "cell_type": "code",
   "execution_count": 1,
   "metadata": {},
   "outputs": [],
   "source": [
    "import sys\n",
    "sys.path.insert(0, 'C:/Users/Franco/Documents/AnacondaProjects/Predicting_Conflicts')\n",
    "from Libs import *\n",
    "sys.path.insert(0, 'C:/Users/Franco/Documents/AnacondaProjects/Predicting_Conflicts/DataAnalisys')\n",
    "from DataSplit import *"
   ]
  },
  {
   "cell_type": "code",
   "execution_count": 2,
   "metadata": {},
   "outputs": [
    {
     "data": {
      "text/plain": [
       "MLPClassifier(activation='relu', alpha=1e-05, batch_size='auto', beta_1=0.9,\n",
       "       beta_2=0.999, early_stopping=False, epsilon=1e-08,\n",
       "       hidden_layer_sizes=(5, 2), learning_rate='constant',\n",
       "       learning_rate_init=0.001, max_iter=200, momentum=0.9,\n",
       "       nesterovs_momentum=True, power_t=0.5, random_state=1, shuffle=True,\n",
       "       solver='lbfgs', tol=0.0001, validation_fraction=0.1, verbose=False,\n",
       "       warm_start=False)"
      ]
     },
     "execution_count": 2,
     "metadata": {},
     "output_type": "execute_result"
    }
   ],
   "source": [
    "# Multilayer Perceptron\n",
    "\n",
    "# Modelo con todas las variables\n",
    "mlp = MLPClassifier(solver='lbfgs', alpha=1e-5, hidden_layer_sizes=(5, 2), random_state=1)\n",
    "mlp.fit(X_train, y_train.values.ravel())\n",
    "\n",
    "# Modelo sin las variables conflict\n",
    "mlp_sin_conflictos = MLPClassifier(solver='lbfgs', alpha=1e-5, hidden_layer_sizes=(5, 2), random_state=1)\n",
    "mlp_sin_conflictos.fit(X_train_sin_conflictos, y_train_sin_conflictos.values.ravel())\n",
    "\n",
    "# Modelo únicamente con las variables conflict\n",
    "mlp_solo_conflictos = MLPClassifier(solver='lbfgs', alpha=1e-5, hidden_layer_sizes=(5, 2), random_state=1)\n",
    "mlp_solo_conflictos.fit(X_train_solo_conflictos, y_train_solo_conflictos.values.ravel())\n",
    "\n",
    "# Modelos con 1 variable conflicto a la vez\n",
    "\n",
    "mlp_c3 = MLPClassifier(solver='lbfgs', alpha=1e-5, hidden_layer_sizes=(5, 2), random_state=1)\n",
    "mlp_c3.fit(X_train_c3, y_train_c3.values.ravel())\n",
    "mlp_c5 = MLPClassifier(solver='lbfgs', alpha=1e-5, hidden_layer_sizes=(5, 2), random_state=1)\n",
    "mlp_c5.fit(X_train_c5, y_train_c5.values.ravel())\n",
    "mlp_c10 = MLPClassifier(solver='lbfgs', alpha=1e-5, hidden_layer_sizes=(5, 2), random_state=1)\n",
    "mlp_c10.fit(X_train_c10, y_train_c10.values.ravel())\n"
   ]
  },
  {
   "cell_type": "code",
   "execution_count": 3,
   "metadata": {},
   "outputs": [
    {
     "name": "stdout",
     "output_type": "stream",
     "text": [
      "\n",
      "Accuracy\n",
      "\n",
      "\n",
      "Multi Layer Perceptron\n",
      "\n",
      "Entero: 0.33884297520661155\n",
      "Sin conflictos: 0.256198347107438\n",
      "Solo conflictos: 0.740495867768595\n",
      "\n",
      "\n",
      "Pasando de a 1 conflict a la vez:\n",
      "\n",
      " conflict-3: 0.7834710743801653\n",
      "\n",
      " conflict-5: 0.7669421487603306\n",
      "\n",
      " conflict-10: 0.740495867768595\n",
      "\n",
      "\n",
      "MLP validation dataframe\n",
      "0.33707865168539325\n"
     ]
    }
   ],
   "source": [
    "print(\"\\nAccuracy\\n\")\n",
    "y_pred_mlp = mlp.predict(X_test)\n",
    "y_pred_mlp_sin_conflictos = mlp_sin_conflictos.predict(X_test_sin_conflictos)\n",
    "y_pred_mlp_solo_conflictos = mlp_solo_conflictos.predict(X_test_solo_conflictos)\n",
    "print(\"\\nMulti Layer Perceptron\\n\\nEntero: {}\\nSin conflictos: {}\\nSolo conflictos: {}\\n\".format(accuracy_score(y_test, y_pred_mlp), accuracy_score(y_test_sin_conflictos, y_pred_mlp_sin_conflictos), accuracy_score(y_test_solo_conflictos, y_pred_mlp_solo_conflictos)))\n",
    "\n",
    "y_pred_mlp_c3 = mlp_c3.predict(X_test_c3)\n",
    "y_pred_mlp_c5 = mlp_c5.predict(X_test_c5)\n",
    "y_pred_mlp_c10 = mlp_c10.predict(X_test_c10)\n",
    "print(\"\\nPasando de a 1 conflict a la vez:\\n\\n conflict-3: {}\\n\\n conflict-5: {}\\n\\n conflict-10: {}\\n\".format(accuracy_score(y_test_c3, y_pred_mlp_c3), accuracy_score(y_test_c5, y_pred_mlp_c5), accuracy_score(y_test_c10, y_pred_mlp_c10)))\n",
    "\n",
    "# Accuracy con el dataframe de validación\n",
    "y_pred_mlp_validation = mlp.predict(df_validation_data)\n",
    "print(\"\\nMLP validation dataframe\\n{}\".format(accuracy_score(df_validation_target, y_pred_mlp_validation)))"
   ]
  },
  {
   "cell_type": "code",
   "execution_count": 4,
   "metadata": {},
   "outputs": [
    {
     "name": "stdout",
     "output_type": "stream",
     "text": [
      "\n",
      "MLP:\n",
      " [[ 35 286]\n",
      " [ 11 117]]\n",
      "\n",
      "MLP validation dataframe:\n",
      " [[ 77 616]\n",
      " [  8 169]]\n",
      "\n",
      "Conflict-3 \n",
      "[[346   0]\n",
      " [103   0]]\n",
      "Conflict-5 \n",
      "[[347   0]\n",
      " [102   0]]\n",
      "Conflict-10 \n",
      "[[336   0]\n",
      " [113   0]]\n",
      "\n"
     ]
    }
   ],
   "source": [
    "# Matriz de confusión\n",
    "cm_mlp = confusion_matrix(y_test, y_pred_mlp)\n",
    "print(\"\\nMLP:\\n {}\".format(cm_mlp))\n",
    "\n",
    "# Matriz de confusion dataframe de validacion\n",
    "cm_mlp_validation = confusion_matrix(df_validation_target, y_pred_mlp_validation)\n",
    "print(\"\\nMLP validation dataframe:\\n {}\".format(cm_mlp_validation))\n",
    "\n",
    "cm_mlp_c3 = confusion_matrix(y_test_c3, y_pred_mlp_c3)\n",
    "cm_mlp_c5 = confusion_matrix(y_test_c5, y_pred_mlp_c5)\n",
    "cm_mlp_c10 = confusion_matrix(y_test_c10, y_pred_mlp_c10)\n",
    "\n",
    "# Matriz de confusion variables conflict\n",
    "print(\"\\nConflict-3 \\n{}\\nConflict-5 \\n{}\\nConflict-10 \\n{}\\n\".format(cm_mlp_c3, cm_mlp_c5, cm_mlp_c10))"
   ]
  },
  {
   "cell_type": "code",
   "execution_count": null,
   "metadata": {},
   "outputs": [],
   "source": []
  }
 ],
 "metadata": {
  "kernelspec": {
   "display_name": "Python 3",
   "language": "python",
   "name": "python3"
  },
  "language_info": {
   "codemirror_mode": {
    "name": "ipython",
    "version": 3
   },
   "file_extension": ".py",
   "mimetype": "text/x-python",
   "name": "python",
   "nbconvert_exporter": "python",
   "pygments_lexer": "ipython3",
   "version": "3.6.5"
  }
 },
 "nbformat": 4,
 "nbformat_minor": 2
}
