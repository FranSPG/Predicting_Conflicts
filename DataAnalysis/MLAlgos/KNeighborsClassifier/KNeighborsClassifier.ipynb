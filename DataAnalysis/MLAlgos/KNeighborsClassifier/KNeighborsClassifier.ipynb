{
 "cells": [
  {
   "cell_type": "code",
   "execution_count": 1,
   "metadata": {},
   "outputs": [],
   "source": [
    "import sys\n",
    "sys.path.insert(0, 'C:/Users/Franco/Documents/AnacondaProjects/Predicting_Conflicts')\n",
    "from Libs import *\n",
    "sys.path.insert(0, 'C:/Users/Franco/Documents/AnacondaProjects/Predicting_Conflicts/DataAnalisys')\n",
    "from DataSplit import *"
   ]
  },
  {
   "cell_type": "code",
   "execution_count": 2,
   "metadata": {},
   "outputs": [
    {
     "data": {
      "text/plain": [
       "KNeighborsClassifier(algorithm='auto', leaf_size=30, metric='minkowski',\n",
       "           metric_params=None, n_jobs=1, n_neighbors=15, p=2,\n",
       "           weights='uniform')"
      ]
     },
     "execution_count": 2,
     "metadata": {},
     "output_type": "execute_result"
    }
   ],
   "source": [
    "# KNeighbors Classifier\n",
    "\n",
    "# Modelo con todas las variables\n",
    "knn = KNeighborsClassifier(n_neighbors=15)\n",
    "knn.fit(X_train, y_train.values.ravel())\n",
    "\n",
    "# Modelo sin las variables conflict\n",
    "knn_sin_conflictos = KNeighborsClassifier(n_neighbors=15)\n",
    "knn_sin_conflictos.fit(X_train_sin_conflictos, y_train_sin_conflictos.values.ravel())\n",
    "\n",
    "# Modelo únicamente con las variables conflict\n",
    "knn_solo_conflictos = KNeighborsClassifier(n_neighbors=15)\n",
    "knn_solo_conflictos.fit(X_train_solo_conflictos, y_train_solo_conflictos.values.ravel())\n",
    "\n",
    "# Modelos con 1 variable conflicto a la vez\n",
    "\n",
    "knn_c3 = KNeighborsClassifier(n_neighbors=15)\n",
    "knn_c3.fit(X_train_c3, y_train_c3.values.ravel())\n",
    "knn_c5 = KNeighborsClassifier(n_neighbors=15)\n",
    "knn_c5.fit(X_train_c5, y_train_c5.values.ravel())\n",
    "knn_c10 = KNeighborsClassifier(n_neighbors=15)\n",
    "knn_c10.fit(X_train_c10, y_train_c10.values.ravel())\n"
   ]
  },
  {
   "cell_type": "code",
   "execution_count": 3,
   "metadata": {},
   "outputs": [
    {
     "name": "stdout",
     "output_type": "stream",
     "text": [
      "\n",
      "Accuracy\n",
      "\n",
      "\n",
      "KNeighborsClassifier\n",
      "\n",
      "Entero: 0.7702479338842976\n",
      "Sin conflictos: 0.7933884297520661\n",
      "Solo conflictos: 0.7669421487603306\n",
      "\n",
      "\n",
      "Pasando de a 1 conflict a la vez:\n",
      "\n",
      " conflict-3: 0.7702479338842976\n",
      "\n",
      " conflict-5: 0.768595041322314\n",
      "\n",
      " conflict-10: 0.7471074380165289\n",
      "\n",
      "\n",
      "KNN validation dataset\n",
      "0.7790262172284644\n"
     ]
    }
   ],
   "source": [
    "print(\"\\nAccuracy\\n\")\n",
    "y_pred_knn = knn.predict(X_test)\n",
    "y_pred_knn_sin_conflictos = knn_sin_conflictos.predict(X_test_sin_conflictos)\n",
    "y_pred_knn_solo_conflictos = knn_solo_conflictos.predict(X_test_solo_conflictos)\n",
    "print(\"\\nKNeighborsClassifier\\n\\nEntero: {}\\nSin conflictos: {}\\nSolo conflictos: {}\\n\".format(accuracy_score(y_test, y_pred_knn), accuracy_score(y_test_sin_conflictos, y_pred_knn_sin_conflictos), accuracy_score(y_test_solo_conflictos, y_pred_knn_solo_conflictos)))\n",
    "\n",
    "y_pred_knn_c3 = knn_c3.predict(X_test_c3)\n",
    "y_pred_knn_c5 = knn_c5.predict(X_test_c5)\n",
    "y_pred_knn_c10 = knn_c10.predict(X_test_c10)\n",
    "print(\"\\nPasando de a 1 conflict a la vez:\\n\\n conflict-3: {}\\n\\n conflict-5: {}\\n\\n conflict-10: {}\\n\".format(accuracy_score(y_test_c3, y_pred_knn_c3), accuracy_score(y_test_c5, y_pred_knn_c5), accuracy_score(y_test_c10, y_pred_knn_c10)))\n",
    "\n",
    "# Accuracy con el dataframe de validación\n",
    "y_pred_knn_validation = knn.predict(df_validation_data)\n",
    "print(\"\\nKNN validation dataset\\n{}\".format(accuracy_score(df_validation_target, y_pred_knn_validation)))"
   ]
  },
  {
   "cell_type": "code",
   "execution_count": 4,
   "metadata": {},
   "outputs": [
    {
     "data": {
      "text/plain": [
       "605"
      ]
     },
     "execution_count": 4,
     "metadata": {},
     "output_type": "execute_result"
    }
   ],
   "source": [
    "len(X_test)"
   ]
  },
  {
   "cell_type": "code",
   "execution_count": 5,
   "metadata": {},
   "outputs": [
    {
     "name": "stdout",
     "output_type": "stream",
     "text": [
      "\n",
      "KNN:\n",
      " [[444  12]\n",
      " [127  22]]\n",
      "\n",
      "KNN validation dataset:\n",
      " [[199   3]\n",
      " [ 56   9]]\n",
      "\n",
      "Conflict-3 \n",
      "[[449  17]\n",
      " [122  17]]\n",
      "Conflict-5 \n",
      "[[444  19]\n",
      " [121  21]]\n",
      "Conflict-10 \n",
      "[[439  10]\n",
      " [143  13]]\n",
      "\n"
     ]
    }
   ],
   "source": [
    "# Matriz de confusión\n",
    "cm_knn = confusion_matrix(y_test, y_pred_knn)\n",
    "print(\"\\nKNN:\\n {}\".format(cm_knn))\n",
    "\n",
    "# Matriz de confusion dataframe de validacion\n",
    "cm_knn_validation = confusion_matrix(df_validation_target, y_pred_knn_validation)\n",
    "print(\"\\nKNN validation dataset:\\n {}\".format(cm_knn_validation))\n",
    "\n",
    "cm_knn_c3 = confusion_matrix(y_test_c3, y_pred_knn_c3)\n",
    "cm_knn_c5 = confusion_matrix(y_test_c5, y_pred_knn_c5)\n",
    "cm_knn_c10 = confusion_matrix(y_test_c10, y_pred_knn_c10)\n",
    "\n",
    "# Matriz de confusion variables conflict\n",
    "print(\"\\nConflict-3 \\n{}\\nConflict-5 \\n{}\\nConflict-10 \\n{}\\n\".format(cm_knn_c3, cm_knn_c5, cm_knn_c10))"
   ]
  },
  {
   "cell_type": "code",
   "execution_count": null,
   "metadata": {},
   "outputs": [],
   "source": []
  }
 ],
 "metadata": {
  "kernelspec": {
   "display_name": "Python 3",
   "language": "python",
   "name": "python3"
  },
  "language_info": {
   "codemirror_mode": {
    "name": "ipython",
    "version": 3
   },
   "file_extension": ".py",
   "mimetype": "text/x-python",
   "name": "python",
   "nbconvert_exporter": "python",
   "pygments_lexer": "ipython3",
   "version": "3.6.5"
  }
 },
 "nbformat": 4,
 "nbformat_minor": 2
}
