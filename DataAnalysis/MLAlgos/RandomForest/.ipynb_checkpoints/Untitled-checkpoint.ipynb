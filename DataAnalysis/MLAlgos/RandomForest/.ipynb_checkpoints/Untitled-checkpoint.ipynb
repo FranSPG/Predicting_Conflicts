{
 "cells": [
  {
   "cell_type": "code",
   "execution_count": 2,
   "metadata": {},
   "outputs": [],
   "source": [
    "import sys\n",
    "sys.path.insert(0, 'C:/Users/Franco/Documents/AnacondaProjects/Predicting_Conflicts')\n",
    "from Libs import *\n",
    "sys.path.insert(0, 'C:/Users/Franco/Documents/AnacondaProjects/Predicting_Conflicts/DataAnalysis')\n",
    "from DataSplit import *\n",
    "from sklearn.ensemble import ExtraTreesClassifier\n",
    "from sklearn.model_selection import cross_val_score\n",
    "from sklearn.metrics import roc_curve, auc"
   ]
  },
  {
   "cell_type": "code",
   "execution_count": 112,
   "metadata": {},
   "outputs": [
    {
     "data": {
      "text/plain": [
       "ExtraTreesClassifier(bootstrap=False, class_weight=None, criterion='gini',\n",
       "           max_depth=28, max_features='auto', max_leaf_nodes=None,\n",
       "           min_impurity_decrease=0.0, min_impurity_split=None,\n",
       "           min_samples_leaf=0.5, min_samples_split=0.1,\n",
       "           min_weight_fraction_leaf=0.0, n_estimators=11, n_jobs=-1,\n",
       "           oob_score=False, random_state=20, verbose=0, warm_start=False)"
      ]
     },
     "execution_count": 112,
     "metadata": {},
     "output_type": "execute_result"
    }
   ],
   "source": [
    "# Modelo con todas las variables\n",
    "rf = RandomForestClassifier(n_estimators = 11,\n",
    "                            max_depth = 28,\n",
    "                            min_samples_split = 0.1,\n",
    "                            min_samples_leaf = 0.5,\n",
    "                            random_state = 20,\n",
    "                            n_jobs = -1)\n",
    "rf.fit(X_train, y_train.values.ravel())\n",
    "\n",
    "rfx = ExtraTreesClassifier(n_estimators = 11,\n",
    "                            max_depth = 28,\n",
    "                            min_samples_split = 0.1,\n",
    "                            min_samples_leaf = 0.5,\n",
    "                            random_state = 20,\n",
    "                            n_jobs = -1)\n",
    "rfx.fit(X_train, y_train.values.ravel())"
   ]
  },
  {
   "cell_type": "code",
   "execution_count": 113,
   "metadata": {},
   "outputs": [
    {
     "name": "stdout",
     "output_type": "stream",
     "text": [
      "0.8272350201865641\n",
      "0.8272350201865641\n"
     ]
    }
   ],
   "source": [
    "scores = cross_val_score(rfx, df_train_models.loc[:, ['country encoded', 'year', 'amount', 'Tools', 'Vehicles',                      \n",
    "                                                        'Weapons', 'Prom Tools', 'Prom Vehicles', 'Prom Weapons', 'conflict-1-to-3', \n",
    "                                                        'conflict-4-to-6', 'conflict-7-to-9', 'Prom USA']], \n",
    "                         df_train_models.loc[:, ['conflict']].values.ravel(), \n",
    "                         cv=10, n_jobs=-1)\n",
    "print(scores.mean())\n",
    "\n",
    "scores_rf = cross_val_score(rf, df_train_models.loc[:, ['country encoded', 'year', 'amount', 'Tools', 'Vehicles',                      \n",
    "                                                        'Weapons', 'Prom Tools', 'Prom Vehicles', 'Prom Weapons', 'conflict-1-to-3', \n",
    "                                                        'conflict-4-to-6', 'conflict-7-to-9', 'Prom USA']], \n",
    "                         df_train_models.loc[:, ['conflict']].values.ravel(), \n",
    "                         cv=10, n_jobs=-1)\n",
    "\n",
    "print(scores_rf.mean())"
   ]
  }
 ],
 "metadata": {
  "kernelspec": {
   "display_name": "Python 3",
   "language": "python",
   "name": "python3"
  },
  "language_info": {
   "codemirror_mode": {
    "name": "ipython",
    "version": 3
   },
   "file_extension": ".py",
   "mimetype": "text/x-python",
   "name": "python",
   "nbconvert_exporter": "python",
   "pygments_lexer": "ipython3",
   "version": "3.7.0"
  }
 },
 "nbformat": 4,
 "nbformat_minor": 2
}
