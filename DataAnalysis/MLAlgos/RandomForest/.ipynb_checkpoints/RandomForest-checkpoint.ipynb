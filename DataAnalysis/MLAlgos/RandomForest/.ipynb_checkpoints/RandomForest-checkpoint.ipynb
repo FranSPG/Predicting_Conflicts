{
 "cells": [
  {
   "cell_type": "code",
   "execution_count": 1,
   "metadata": {},
   "outputs": [
    {
     "name": "stderr",
     "output_type": "stream",
     "text": [
      "C:\\ProgramData\\Anaconda3\\lib\\site-packages\\sklearn\\ensemble\\weight_boosting.py:29: DeprecationWarning: numpy.core.umath_tests is an internal NumPy module and should not be imported. It will be removed in a future NumPy release.\n",
      "  from numpy.core.umath_tests import inner1d\n"
     ]
    }
   ],
   "source": [
    "import sys\n",
    "sys.path.insert(0, 'C:/Users/Franco/Documents/AnacondaProjects/Predicting_Conflicts')\n",
    "from Libs import *\n",
    "sys.path.insert(0, 'C:/Users/Franco/Documents/AnacondaProjects/Predicting_Conflicts/DataAnalisys')\n",
    "from DataSplit import *\n",
    "from sklearn.ensemble import ExtraTreesClassifier\n",
    "from sklearn.model_selection import cross_val_score"
   ]
  },
  {
   "cell_type": "code",
   "execution_count": 6,
   "metadata": {},
   "outputs": [
    {
     "data": {
      "text/plain": [
       "RandomForestClassifier(bootstrap=True, class_weight=None, criterion='gini',\n",
       "            max_depth=None, max_features='auto', max_leaf_nodes=None,\n",
       "            min_impurity_decrease=0.0, min_impurity_split=None,\n",
       "            min_samples_leaf=1, min_samples_split=2,\n",
       "            min_weight_fraction_leaf=0.0, n_estimators=1000, n_jobs=-1,\n",
       "            oob_score=False, random_state=20, verbose=0, warm_start=False)"
      ]
     },
     "execution_count": 6,
     "metadata": {},
     "output_type": "execute_result"
    }
   ],
   "source": [
    "# Random Forest Classifier\n",
    "\n",
    "# Modelo con todas las variables\n",
    "rf = RandomForestClassifier(n_estimators=20, max_depth=None, min_samples_split=2, random_state=20)\n",
    "rf.fit(X_train, y_train.values.ravel())\n",
    "\n",
    "rfx = ExtraTreesClassifier(n_estimators=20, max_depth=None, min_samples_split=2, random_state=20, n_jobs=-1)\n",
    "rfx.fit(X_train, y_train.values.ravel())\n",
    "\n",
    "# Modelo sin las variables conflict\n",
    "rf_sin_conflictos = RandomForestClassifier(n_estimators=1000, n_jobs=-1, random_state=20)\n",
    "rf_sin_conflictos.fit(X_train_sin_conflictos, y_train_sin_conflictos.values.ravel())\n",
    "\n",
    "# Modelo únicamente con las variables conflict\n",
    "rf_solo_conflictos = RandomForestClassifier(n_estimators=1000, n_jobs=-1, random_state=20)\n",
    "rf_solo_conflictos.fit(X_train_solo_conflictos, y_train_solo_conflictos.values.ravel())\n",
    "\n",
    "# Modelos con 1 variable conflicto a la vez\n",
    "\n",
    "rf_c3 = RandomForestClassifier(n_estimators=1000, n_jobs=-1, random_state=20)\n",
    "rf_c3.fit(X_train_c3, y_train_c3.values.ravel())\n",
    "\n",
    "rf_c5 = RandomForestClassifier(n_estimators=1000, n_jobs=-1, random_state=20)\n",
    "rf_c5.fit(X_train_c5, y_train_c5.values.ravel())\n",
    "\n",
    "rf_c10 = RandomForestClassifier(n_estimators=1000, n_jobs=-1, random_state=20)\n",
    "rf_c10.fit(X_train_c10, y_train_c10.values.ravel())"
   ]
  },
  {
   "cell_type": "code",
   "execution_count": 7,
   "metadata": {},
   "outputs": [
    {
     "name": "stdout",
     "output_type": "stream",
     "text": [
      "0.874998487717218\n",
      "0.8617322699350936\n"
     ]
    }
   ],
   "source": [
    "scores = cross_val_score(rfx, df_train_models.loc[:, ['country encoded', 'year', 'amount', 'Tools', 'Vehicles',                      \n",
    "                                                        'Weapons', 'Prom Tools', 'Prom Vehicles', 'Prom Weapons', 'conflict-1-to-3', \n",
    "                                                        'conflict-4-to-6', 'conflict-7-to-9', 'Prom USA']], \n",
    "                         df_train_models.loc[:, ['conflict']].values.ravel(), \n",
    "                         cv=10, n_jobs=-1)\n",
    "print(scores.mean())\n",
    "\n",
    "scores_rf = cross_val_score(rf, df_train_models.loc[:, ['country encoded', 'year', 'amount', 'Tools', 'Vehicles',                      \n",
    "                                                        'Weapons', 'Prom Tools', 'Prom Vehicles', 'Prom Weapons', 'conflict-1-to-3', \n",
    "                                                        'conflict-4-to-6', 'conflict-7-to-9', 'Prom USA']], \n",
    "                         df_train_models.loc[:, ['conflict']].values.ravel(), \n",
    "                         cv=10, n_jobs=-1)\n",
    "\n",
    "print(scores_rf.mean())"
   ]
  },
  {
   "cell_type": "code",
   "execution_count": 4,
   "metadata": {},
   "outputs": [
    {
     "name": "stdout",
     "output_type": "stream",
     "text": [
      "\n",
      "Accuracy\n",
      "\n",
      "0.8670391061452514\n",
      "Random Forest\n",
      "\n",
      "Entero: 0.8670391061452514\n",
      "Sin conflictos: 0.8737430167597765\n",
      "Solo conflictos: 0.9005586592178771\n",
      "\n",
      "\n",
      "Accuracy Extremely Randomized Trees\n",
      "0.8636871508379889\n",
      "Pasando de a 1 conflict a la vez:\n",
      "\n",
      " conflict-3: 0.8653631284916201\n",
      "\n",
      " conflict-5: 0.8659217877094972\n",
      "\n",
      " conflict-10: 0.8715083798882681\n",
      "\n",
      "\n",
      "Random Forest validation dataframe\n",
      "0.8591194968553459\n",
      "\n",
      "Extremely Randomized Trees validation dataframe\n",
      "0.8679245283018868\n"
     ]
    }
   ],
   "source": [
    "print(\"\\nAccuracy\\n\")\n",
    "y_pred_randforest = rf.predict(X_test)\n",
    "print(accuracy_score(y_test, y_pred_randforest))\n",
    "y_pred_randforest_sin_conflictos = rf_sin_conflictos.predict(X_test_sin_conflictos)\n",
    "y_pred_randforest_solo_conflictos = rf_solo_conflictos.predict(X_test_solo_conflictos)\n",
    "print(\"Random Forest\\n\\nEntero: {}\\nSin conflictos: {}\\nSolo conflictos: {}\\n\".format(accuracy_score(y_test, y_pred_randforest), accuracy_score(y_test_sin_conflictos, y_pred_randforest_sin_conflictos), accuracy_score(y_test_solo_conflictos, y_pred_randforest_solo_conflictos)))\n",
    "\n",
    "print(\"\\nAccuracy Extremely Randomized Trees\")\n",
    "y_pred_randforest_rfx = rfx.predict(X_test)\n",
    "print(accuracy_score(y_test, y_pred_randforest_rfx))\n",
    "\n",
    "y_pred_rf_c3 = rf_c3.predict(X_test_c3)\n",
    "y_pred_rf_c5 = rf_c5.predict(X_test_c5)\n",
    "y_pred_rf_c10 = rf_c10.predict(X_test_c10)\n",
    "print(\"Pasando de a 1 conflict a la vez:\\n\\n conflict-3: {}\\n\\n conflict-5: {}\\n\\n conflict-10: {}\\n\".format(accuracy_score(y_test_c3, y_pred_rf_c3), accuracy_score(y_test_c5, y_pred_rf_c5), accuracy_score(y_test_c10, y_pred_rf_c10)))\n",
    "\n",
    "# Accuracy con el dataframe de validación (Todas las variables)\n",
    "y_pred_randforest_validation = rf.predict(df_validation_data)\n",
    "print(\"\\nRandom Forest validation dataframe\\n{}\".format(accuracy_score(df_validation_target, y_pred_randforest_validation)))\n",
    "\n",
    "y_pred_randforest_rfx_validation = rfx.predict(df_validation_data)\n",
    "print(\"\\nExtremely Randomized Trees validation dataframe\\n{}\".format(accuracy_score(df_validation_target, y_pred_randforest_rfx_validation)))"
   ]
  },
  {
   "cell_type": "code",
   "execution_count": 5,
   "metadata": {},
   "outputs": [
    {
     "name": "stdout",
     "output_type": "stream",
     "text": [
      "\n",
      "RandForest:\n",
      " [[1466   13]\n",
      " [ 225   86]]\n",
      "\n",
      "Extremely Randomized Trees:\n",
      " [[1457   22]\n",
      " [ 222   89]]\n",
      "\n",
      "Random Forest validation dataframe:\n",
      "[[651   7]\n",
      " [105  32]]\n",
      "\n",
      "Conflict-3 \n",
      "[[1463   17]\n",
      " [ 224   86]]\n",
      "Conflict-5 \n",
      "[[1463   22]\n",
      " [ 218   87]]\n",
      "Conflict-10 \n",
      "[[1459   19]\n",
      " [ 211  101]]\n",
      "\n"
     ]
    }
   ],
   "source": [
    "# Matriz de confusión\n",
    "cm_rf = confusion_matrix(y_test, y_pred_randforest)\n",
    "print(\"\\nRandForest:\\n {}\".format(cm_rf))\n",
    "\n",
    "cm_rfx = confusion_matrix(y_test, y_pred_randforest_rfx)\n",
    "print(\"\\nExtremely Randomized Trees:\\n {}\".format(cm_rfx))\n",
    "\n",
    "## Matriz de confusión dataframe de validacion\n",
    "cm_rf_validation = confusion_matrix(df_validation_target, y_pred_randforest_validation)\n",
    "print(\"\\nRandom Forest validation dataframe:\\n{}\".format(cm_rf_validation))\n",
    "\n",
    "# Matriz de confusion variables conflict\n",
    "cm_rf_c3 = confusion_matrix(y_test_c3, y_pred_rf_c3)\n",
    "cm_rf_c5 = confusion_matrix(y_test_c5, y_pred_rf_c5)\n",
    "cm_rf_c10 = confusion_matrix(y_test_c10, y_pred_rf_c10)\n",
    "print(\"\\nConflict-3 \\n{}\\nConflict-5 \\n{}\\nConflict-10 \\n{}\\n\".format(cm_rf_c3, cm_rf_c5, cm_rf_c10))"
   ]
  },
  {
   "cell_type": "code",
   "execution_count": 6,
   "metadata": {},
   "outputs": [
    {
     "data": {
      "text/plain": [
       "0.4786729857819905"
      ]
     },
     "execution_count": 6,
     "metadata": {},
     "output_type": "execute_result"
    }
   ],
   "source": [
    "f1_score(y_test, y_pred_randforest, average='binary', labels=np.unique(y_pred_randforest))"
   ]
  },
  {
   "cell_type": "code",
   "execution_count": 7,
   "metadata": {},
   "outputs": [],
   "source": [
    "arr = y_test.index[y_test['conflict'] != y_pred_randforest]\n"
   ]
  },
  {
   "cell_type": "code",
   "execution_count": 8,
   "metadata": {},
   "outputs": [],
   "source": [
    "X_test_error = pd.DataFrame(X_test.loc[arr, :])"
   ]
  },
  {
   "cell_type": "code",
   "execution_count": 9,
   "metadata": {},
   "outputs": [],
   "source": [
    "X_test_error['conflict'] = y_test[y_test['conflict'] != y_pred_randforest]\n"
   ]
  },
  {
   "cell_type": "code",
   "execution_count": 10,
   "metadata": {},
   "outputs": [
    {
     "data": {
      "text/plain": [
       "220"
      ]
     },
     "execution_count": 10,
     "metadata": {},
     "output_type": "execute_result"
    }
   ],
   "source": [
    "len(X_test_error)"
   ]
  },
  {
   "cell_type": "code",
   "execution_count": 11,
   "metadata": {},
   "outputs": [
    {
     "data": {
      "text/plain": [
       "False    1483\n",
       "True      307\n",
       "Name: conflict, dtype: int64"
      ]
     },
     "execution_count": 11,
     "metadata": {},
     "output_type": "execute_result"
    }
   ],
   "source": [
    "y_test['conflict'].value_counts()"
   ]
  },
  {
   "cell_type": "code",
   "execution_count": 12,
   "metadata": {},
   "outputs": [
    {
     "data": {
      "text/plain": [
       "0.17150837988826817"
      ]
     },
     "execution_count": 12,
     "metadata": {},
     "output_type": "execute_result"
    }
   ],
   "source": [
    "y_test['conflict'].mean()"
   ]
  },
  {
   "cell_type": "code",
   "execution_count": 13,
   "metadata": {},
   "outputs": [
    {
     "data": {
      "text/plain": [
       "0.8284916201117318"
      ]
     },
     "execution_count": 13,
     "metadata": {},
     "output_type": "execute_result"
    }
   ],
   "source": [
    "1 - y_test['conflict'].mean()"
   ]
  },
  {
   "cell_type": "code",
   "execution_count": 14,
   "metadata": {},
   "outputs": [
    {
     "name": "stdout",
     "output_type": "stream",
     "text": [
      "True:  [False False False False False False False False False False False False\n",
      " False False False  True False  True False False False False False False\n",
      " False]\n",
      "Pred:  [False False False False False False False False False False False False\n",
      " False False False  True False False False False False False False False\n",
      " False]\n"
     ]
    }
   ],
   "source": [
    "print ('True: ', y_test['conflict'][0:25].values)\n",
    "print ('Pred: ', y_pred_randforest[0:25])"
   ]
  },
  {
   "cell_type": "code",
   "execution_count": 15,
   "metadata": {},
   "outputs": [],
   "source": [
    "y_pred_prob = rf.predict_proba(X_test)[:, 1]"
   ]
  },
  {
   "cell_type": "code",
   "execution_count": 16,
   "metadata": {},
   "outputs": [],
   "source": [
    "%matplotlib inline\n",
    "plt.rcParams['font.size'] = 14"
   ]
  },
  {
   "cell_type": "code",
   "execution_count": 17,
   "metadata": {},
   "outputs": [
    {
     "data": {
      "text/plain": [
       "(0, 1)"
      ]
     },
     "execution_count": 17,
     "metadata": {},
     "output_type": "execute_result"
    },
    {
     "data": {
      "image/png": "[encoded data removed]",
      "text/plain": [
       "<Figure size 432x288 with 1 Axes>"
      ]
     },
     "metadata": {},
     "output_type": "display_data"
    }
   ],
   "source": [
    "plt.hist(y_pred_prob, bins = 8)\n",
    "plt.xlim(0, 1)"
   ]
  },
  {
   "cell_type": "code",
   "execution_count": 18,
   "metadata": {},
   "outputs": [],
   "source": [
    "from sklearn.preprocessing import binarize\n",
    "y_pred_class = binarize([y_pred_prob], 0.35)[0]"
   ]
  },
  {
   "cell_type": "code",
   "execution_count": 19,
   "metadata": {},
   "outputs": [
    {
     "data": {
      "text/plain": [
       "array([0.257, 0.006, 0.099, 0.072, 0.166, 0.143, 0.   , 0.134, 0.326,\n",
       "       0.277])"
      ]
     },
     "execution_count": 19,
     "metadata": {},
     "output_type": "execute_result"
    }
   ],
   "source": [
    "y_pred_prob[0:10]"
   ]
  },
  {
   "cell_type": "code",
   "execution_count": 20,
   "metadata": {},
   "outputs": [
    {
     "data": {
      "text/plain": [
       "array([0., 0., 0., 0., 0., 0., 0., 0., 0., 0.])"
      ]
     },
     "execution_count": 20,
     "metadata": {},
     "output_type": "execute_result"
    }
   ],
   "source": [
    "y_pred_class[:10]"
   ]
  },
  {
   "cell_type": "code",
   "execution_count": 21,
   "metadata": {},
   "outputs": [
    {
     "name": "stdout",
     "output_type": "stream",
     "text": [
      "[[1469   14]\n",
      " [ 206  101]]\n"
     ]
    }
   ],
   "source": [
    "print(cm_rf)"
   ]
  },
  {
   "cell_type": "code",
   "execution_count": 22,
   "metadata": {},
   "outputs": [
    {
     "name": "stdout",
     "output_type": "stream",
     "text": [
      "[[1408   75]\n",
      " [ 134  173]]\n"
     ]
    }
   ],
   "source": [
    "print(confusion_matrix(y_test, y_pred_class))"
   ]
  },
  {
   "cell_type": "code",
   "execution_count": 23,
   "metadata": {},
   "outputs": [
    {
     "data": {
      "image/png": "[encoded data removed]",
      "text/plain": [
       "<Figure size 432x288 with 1 Axes>"
      ]
     },
     "metadata": {},
     "output_type": "display_data"
    }
   ],
   "source": [
    "from sklearn import metrics\n",
    "fpr, tpr, thresholds = metrics.roc_curve(y_test, y_pred_prob)\n",
    "plt.plot(fpr, tpr)\n",
    "plt.xlim([0.0, 1.0])\n",
    "plt.ylim([0.0, 1.0])\n",
    "plt.title('ROC curve for diabetes classifier')\n",
    "plt.xlabel('False Positive Rate (1 - Specificity)')\n",
    "plt.ylabel('True Positive Rate (Sensitivity)')\n",
    "plt.grid(True)"
   ]
  },
  {
   "cell_type": "code",
   "execution_count": 24,
   "metadata": {},
   "outputs": [],
   "source": [
    "def evaluate_threshold(threshold):\n",
    "    a = tpr[thresholds > threshold][-1]\n",
    "    b =  1 - fpr[thresholds > threshold][-1]\n",
    "    print('Sensitivity:', tpr[thresholds > threshold][-1])\n",
    "    print('Specificity:', 1 - fpr[thresholds > threshold][-1])\n",
    "    \n",
    "    return (a, b)"
   ]
  },
  {
   "cell_type": "code",
   "execution_count": 25,
   "metadata": {},
   "outputs": [
    {
     "name": "stdout",
     "output_type": "stream",
     "text": [
      "Sensitivity: 0.6677524429967426\n",
      "Specificity: 0.8927848954821308\n"
     ]
    },
    {
     "data": {
      "text/plain": [
       "(0.6677524429967426, 0.8927848954821308)"
      ]
     },
     "execution_count": 25,
     "metadata": {},
     "output_type": "execute_result"
    }
   ],
   "source": [
    "evaluate_threshold(0.29)\n"
   ]
  },
  {
   "cell_type": "code",
   "execution_count": 26,
   "metadata": {},
   "outputs": [
    {
     "name": "stdout",
     "output_type": "stream",
     "text": [
      "Sensitivity: 1.0\n",
      "Specificity: 0.03169251517194871\n",
      "1.0 0.03169251517194871 0.0\n",
      "Sensitivity: 1.0\n",
      "Specificity: 0.10923803101820628\n",
      "1.0 0.10923803101820628 0.01\n",
      "Sensitivity: 0.996742671009772\n",
      "Specificity: 0.15104517869184086\n",
      "0.996742671009772 0.15104517869184086 0.02\n",
      "Sensitivity: 0.996742671009772\n",
      "Specificity: 0.17936614969656106\n",
      "0.996742671009772 0.17936614969656106 0.03\n",
      "Sensitivity: 0.996742671009772\n",
      "Specificity: 0.21712744436952125\n",
      "0.996742671009772 0.21712744436952125 0.04\n",
      "Sensitivity: 0.996742671009772\n",
      "Specificity: 0.25354012137559\n",
      "0.996742671009772 0.25354012137559 0.05\n",
      "Sensitivity: 0.993485342019544\n",
      "Specificity: 0.279838165879973\n",
      "0.993485342019544 0.279838165879973 0.06\n",
      "Sensitivity: 0.990228013029316\n",
      "Specificity: 0.3122049898853675\n",
      "0.990228013029316 0.3122049898853675 0.07\n",
      "Sensitivity: 0.9771986970684039\n",
      "Specificity: 0.3499662845583277\n",
      "0.9771986970684039 0.3499662845583277 0.08\n",
      "Sensitivity: 0.9609120521172638\n",
      "Specificity: 0.39177343223196226\n",
      "0.9609120521172638 0.39177343223196226 0.09\n",
      "Sensitivity: 0.9511400651465798\n",
      "Specificity: 0.41807147673634526\n",
      "0.9511400651465798 0.41807147673634526 0.1\n",
      "Sensitivity: 0.9381107491856677\n",
      "Specificity: 0.4531355360755226\n",
      "0.9381107491856677 0.4531355360755226 0.11\n",
      "Sensitivity: 0.9283387622149837\n",
      "Specificity: 0.49561699258260283\n",
      "0.9283387622149837 0.49561699258260283 0.12\n",
      "Sensitivity: 0.9120521172638436\n",
      "Specificity: 0.533378287255563\n",
      "0.9120521172638436 0.533378287255563 0.13\n",
      "Sensitivity: 0.9055374592833876\n",
      "Specificity: 0.5751854349291976\n",
      "0.9055374592833876 0.5751854349291976 0.14\n",
      "Sensitivity: 0.9022801302931596\n",
      "Specificity: 0.6176668914362778\n",
      "0.9022801302931596 0.6176668914362778 0.15\n",
      "Sensitivity: 0.8925081433224755\n",
      "Specificity: 0.6500337154416722\n",
      "0.8925081433224755 0.6500337154416722 0.16\n",
      "Sensitivity: 0.8762214983713354\n",
      "Specificity: 0.6830748482805125\n",
      "0.8762214983713354 0.6830748482805125 0.17\n",
      "Sensitivity: 0.8599348534201955\n",
      "Specificity: 0.7039784221173297\n",
      "0.8599348534201955 0.7039784221173297 0.18\n",
      "Sensitivity: 0.8306188925081434\n",
      "Specificity: 0.7309507754551585\n",
      "0.8306188925081434 0.7309507754551585 0.19\n",
      "Sensitivity: 0.8208469055374593\n",
      "Specificity: 0.7565745111260958\n",
      "0.8208469055374593 0.7565745111260958 0.2\n",
      "Sensitivity: 0.8078175895765473\n",
      "Specificity: 0.7788267026298045\n",
      "0.8078175895765473 0.7788267026298045 0.21\n",
      "Sensitivity: 0.8013029315960912\n",
      "Specificity: 0.7936614969656103\n",
      "0.8013029315960912 0.7936614969656103 0.22\n",
      "Sensitivity: 0.7882736156351792\n",
      "Specificity: 0.8132164531355361\n",
      "0.7882736156351792 0.8132164531355361 0.23\n",
      "Sensitivity: 0.7654723127035831\n",
      "Specificity: 0.8320971004720161\n",
      "0.7654723127035831 0.8320971004720161 0.24\n",
      "Sensitivity: 0.755700325732899\n",
      "Specificity: 0.8482805124747135\n",
      "0.755700325732899 0.8482805124747135 0.25\n",
      "Sensitivity: 0.742671009771987\n",
      "Specificity: 0.8577208361429535\n",
      "0.742671009771987 0.8577208361429535 0.26\n",
      "Sensitivity: 0.7166123778501629\n",
      "Specificity: 0.8705327039784221\n",
      "0.7166123778501629 0.8705327039784221 0.27\n",
      "Sensitivity: 0.6905537459283387\n",
      "Specificity: 0.8840188806473365\n",
      "0.6905537459283387 0.8840188806473365 0.28\n",
      "Sensitivity: 0.6677524429967426\n",
      "Specificity: 0.8927848954821308\n",
      "0.6677524429967426 0.8927848954821308 0.29\n",
      "Sensitivity: 0.6482084690553745\n",
      "Specificity: 0.904248145650708\n",
      "0.6482084690553745 0.904248145650708 0.3\n",
      "Sensitivity: 0.6351791530944625\n",
      "Specificity: 0.9150370869858395\n",
      "0.6351791530944625 0.9150370869858395 0.31\n",
      "Sensitivity: 0.6091205211726385\n",
      "Specificity: 0.9285232636547539\n",
      "0.6091205211726385 0.9285232636547539 0.32\n",
      "Sensitivity: 0.5895765472312704\n",
      "Specificity: 0.9379635873229939\n",
      "0.5895765472312704 0.9379635873229939 0.33\n",
      "Sensitivity: 0.5765472312703583\n",
      "Specificity: 0.9433580579905597\n",
      "0.5765472312703583 0.9433580579905597 0.34\n",
      "Sensitivity: 0.5635179153094463\n",
      "Specificity: 0.9494268374915711\n",
      "0.5635179153094463 0.9494268374915711 0.35000000000000003\n",
      "Sensitivity: 0.5570032573289903\n",
      "Specificity: 0.9534726904922455\n",
      "0.5570032573289903 0.9534726904922455 0.36\n",
      "Sensitivity: 0.5276872964169381\n",
      "Specificity: 0.9548213081591369\n",
      "0.5276872964169381 0.9548213081591369 0.37\n",
      "Sensitivity: 0.511400651465798\n",
      "Specificity: 0.9581928523263654\n",
      "0.511400651465798 0.9581928523263654 0.38\n",
      "Sensitivity: 0.48534201954397393\n",
      "Specificity: 0.961564396493594\n",
      "0.48534201954397393 0.961564396493594 0.39\n",
      "Sensitivity: 0.4723127035830619\n",
      "Specificity: 0.9669588671611599\n",
      "0.4723127035830619 0.9669588671611599 0.4\n",
      "Sensitivity: 0.4592833876221498\n",
      "Specificity: 0.9683074848280513\n",
      "0.4592833876221498 0.9683074848280513 0.41000000000000003\n",
      "Sensitivity: 0.42996742671009774\n",
      "Specificity: 0.9703304113283884\n",
      "0.42996742671009774 0.9703304113283884 0.42\n",
      "Sensitivity: 0.4234527687296417\n",
      "Specificity: 0.9750505731625084\n",
      "0.4234527687296417 0.9750505731625084 0.43\n",
      "Sensitivity: 0.41368078175895767\n",
      "Specificity: 0.9797707349966285\n",
      "0.41368078175895767 0.9797707349966285 0.44\n",
      "Sensitivity: 0.3745928338762215\n",
      "Specificity: 0.9824679703304113\n",
      "0.3745928338762215 0.9824679703304113 0.45\n",
      "Sensitivity: 0.36482084690553745\n",
      "Specificity: 0.9831422791638571\n",
      "0.36482084690553745 0.9831422791638571 0.46\n",
      "Sensitivity: 0.3517915309446254\n",
      "Specificity: 0.98583951449764\n",
      "0.3517915309446254 0.98583951449764 0.47000000000000003\n",
      "Sensitivity: 0.34201954397394135\n",
      "Specificity: 0.987862440997977\n",
      "0.34201954397394135 0.987862440997977 0.48\n",
      "Sensitivity: 0.3322475570032573\n",
      "Specificity: 0.9898853674983142\n",
      "0.3322475570032573 0.9898853674983142 0.49\n",
      "Sensitivity: 0.3289902280130293\n",
      "Specificity: 0.9905596763317599\n",
      "0.3289902280130293 0.9905596763317599 0.5\n",
      "Sensitivity: 0.31921824104234525\n",
      "Specificity: 0.9912339851652057\n",
      "0.31921824104234525 0.9912339851652057 0.51\n",
      "Sensitivity: 0.30293159609120524\n",
      "Specificity: 0.9912339851652057\n",
      "0.30293159609120524 0.9912339851652057 0.52\n",
      "Sensitivity: 0.2931596091205212\n",
      "Specificity: 0.9919082939986514\n",
      "0.2931596091205212 0.9919082939986514 0.53\n",
      "Sensitivity: 0.26384364820846906\n",
      "Specificity: 0.9939312204989885\n",
      "0.26384364820846906 0.9939312204989885 0.54\n",
      "Sensitivity: 0.25732899022801303\n",
      "Specificity: 0.9939312204989885\n",
      "0.25732899022801303 0.9939312204989885 0.55\n",
      "Sensitivity: 0.21498371335504887\n",
      "Specificity: 0.9959541469993257\n",
      "0.21498371335504887 0.9959541469993257 0.56\n",
      "Sensitivity: 0.21498371335504887\n",
      "Specificity: 0.9959541469993257\n",
      "0.21498371335504887 0.9959541469993257 0.5700000000000001\n",
      "Sensitivity: 0.21498371335504887\n",
      "Specificity: 0.9959541469993257\n",
      "0.21498371335504887 0.9959541469993257 0.58\n",
      "Sensitivity: 0.20195439739413681\n",
      "Specificity: 0.9959541469993257\n",
      "0.20195439739413681 0.9959541469993257 0.59\n",
      "Sensitivity: 0.16938110749185667\n",
      "Specificity: 0.9966284558327714\n",
      "0.16938110749185667 0.9966284558327714 0.6\n",
      "Sensitivity: 0.16938110749185667\n",
      "Specificity: 0.9966284558327714\n",
      "0.16938110749185667 0.9966284558327714 0.61\n",
      "Sensitivity: 0.16938110749185667\n",
      "Specificity: 0.9973027646662171\n",
      "0.16938110749185667 0.9973027646662171 0.62\n",
      "Sensitivity: 0.15960912052117263\n",
      "Specificity: 0.9973027646662171\n",
      "0.15960912052117263 0.9973027646662171 0.63\n",
      "Sensitivity: 0.1498371335504886\n",
      "Specificity: 0.9979770734996628\n",
      "0.1498371335504886 0.9979770734996628 0.64\n",
      "Sensitivity: 0.1498371335504886\n",
      "Specificity: 0.9979770734996628\n",
      "0.1498371335504886 0.9979770734996628 0.65\n",
      "Sensitivity: 0.13680781758957655\n",
      "Specificity: 0.9979770734996628\n",
      "0.13680781758957655 0.9979770734996628 0.66\n",
      "Sensitivity: 0.10749185667752444\n",
      "Specificity: 0.9986513823331086\n",
      "0.10749185667752444 0.9986513823331086 0.67\n",
      "Sensitivity: 0.10749185667752444\n",
      "Specificity: 0.9986513823331086\n",
      "0.10749185667752444 0.9986513823331086 0.68\n",
      "Sensitivity: 0.10749185667752444\n",
      "Specificity: 0.9986513823331086\n",
      "0.10749185667752444 0.9986513823331086 0.6900000000000001\n",
      "Sensitivity: 0.10749185667752444\n",
      "Specificity: 0.9986513823331086\n",
      "0.10749185667752444 0.9986513823331086 0.7000000000000001\n",
      "Sensitivity: 0.10749185667752444\n",
      "Specificity: 1.0\n",
      "0.10749185667752444 1.0 0.71\n",
      "Sensitivity: 0.05537459283387622\n",
      "Specificity: 1.0\n",
      "0.05537459283387622 1.0 0.72\n",
      "Sensitivity: 0.05537459283387622\n",
      "Specificity: 1.0\n",
      "0.05537459283387622 1.0 0.73\n",
      "Sensitivity: 0.05537459283387622\n",
      "Specificity: 1.0\n",
      "0.05537459283387622 1.0 0.74\n",
      "Sensitivity: 0.05537459283387622\n",
      "Specificity: 1.0\n",
      "0.05537459283387622 1.0 0.75\n",
      "Sensitivity: 0.05537459283387622\n",
      "Specificity: 1.0\n",
      "0.05537459283387622 1.0 0.76\n",
      "Sensitivity: 0.05537459283387622\n",
      "Specificity: 1.0\n",
      "0.05537459283387622 1.0 0.77\n",
      "Sensitivity: 0.05537459283387622\n",
      "Specificity: 1.0\n",
      "0.05537459283387622 1.0 0.78\n",
      "Sensitivity: 0.03908794788273615\n",
      "Specificity: 1.0\n",
      "0.03908794788273615 1.0 0.79\n",
      "Sensitivity: 0.003257328990228013\n",
      "Specificity: 1.0\n",
      "0.003257328990228013 1.0 0.8\n",
      "Sensitivity: 0.003257328990228013\n",
      "Specificity: 1.0\n",
      "0.003257328990228013 1.0 0.81\n",
      "Sensitivity: 0.003257328990228013\n",
      "Specificity: 1.0\n",
      "0.003257328990228013 1.0 0.8200000000000001\n",
      "Sensitivity: 0.003257328990228013\n",
      "Specificity: 1.0\n",
      "0.003257328990228013 1.0 0.8300000000000001\n",
      "Sensitivity: 0.003257328990228013\n",
      "Specificity: 1.0\n",
      "0.003257328990228013 1.0 0.84\n",
      "Sensitivity: 0.003257328990228013\n",
      "Specificity: 1.0\n",
      "0.003257328990228013 1.0 0.85\n",
      "Sensitivity: 0.003257328990228013\n",
      "Specificity: 1.0\n",
      "0.003257328990228013 1.0 0.86\n",
      "Sensitivity: 0.003257328990228013\n",
      "Specificity: 1.0\n",
      "0.003257328990228013 1.0 0.87\n",
      "Sensitivity: 0.003257328990228013\n",
      "Specificity: 1.0\n",
      "0.003257328990228013 1.0 0.88\n",
      "Sensitivity: 0.003257328990228013\n",
      "Specificity: 1.0\n",
      "0.003257328990228013 1.0 0.89\n"
     ]
    }
   ],
   "source": [
    "sens = 0\n",
    "spec = 0\n",
    "xout = 0\n",
    "arr = []\n",
    "for x in range(90):\n",
    "    a, b = evaluate_threshold(x*0.01)\n",
    "    xout = x*0.01\n",
    "    arr.append([a,b,xout])\n",
    "    print(a,b, xout)"
   ]
  },
  {
   "cell_type": "code",
   "execution_count": 27,
   "metadata": {},
   "outputs": [],
   "source": [
    "arrpd = pd.DataFrame(arr)"
   ]
  },
  {
   "cell_type": "code",
   "execution_count": 28,
   "metadata": {},
   "outputs": [],
   "source": [
    "#arrpd.drop(axis=1, columns=2, inplace=True)\n"
   ]
  },
  {
   "cell_type": "code",
   "execution_count": 29,
   "metadata": {},
   "outputs": [],
   "source": [
    "arrpd[3] = arrpd[[0,1]].sum(axis=1)"
   ]
  },
  {
   "cell_type": "code",
   "execution_count": 30,
   "metadata": {},
   "outputs": [
    {
     "name": "stderr",
     "output_type": "stream",
     "text": [
      "C:\\Program Files (x86)\\Anaconda\\lib\\site-packages\\ipykernel_launcher.py:1: FutureWarning: 'argmax' is deprecated, use 'idxmax' instead. The behavior of 'argmax'\n",
      "will be corrected to return the positional maximum in the future.\n",
      "Use 'series.values.argmax' to get the position of the maximum now.\n",
      "  \"\"\"Entry point for launching an IPython kernel.\n"
     ]
    },
    {
     "data": {
      "text/plain": [
       "25"
      ]
     },
     "execution_count": 30,
     "metadata": {},
     "output_type": "execute_result"
    }
   ],
   "source": [
    "arrpd[3].argmax()"
   ]
  },
  {
   "cell_type": "code",
   "execution_count": 31,
   "metadata": {},
   "outputs": [
    {
     "data": {
      "text/html": [
       "<div>\n",
       "<style scoped>\n",
       "    .dataframe tbody tr th:only-of-type {\n",
       "        vertical-align: middle;\n",
       "    }\n",
       "\n",
       "    .dataframe tbody tr th {\n",
       "        vertical-align: top;\n",
       "    }\n",
       "\n",
       "    .dataframe thead th {\n",
       "        text-align: right;\n",
       "    }\n",
       "</style>\n",
       "<table border=\"1\" class=\"dataframe\">\n",
       "  <thead>\n",
       "    <tr style=\"text-align: right;\">\n",
       "      <th></th>\n",
       "      <th>0</th>\n",
       "      <th>1</th>\n",
       "      <th>2</th>\n",
       "      <th>3</th>\n",
       "    </tr>\n",
       "  </thead>\n",
       "  <tbody>\n",
       "    <tr>\n",
       "      <th>15</th>\n",
       "      <td>0.90</td>\n",
       "      <td>0.62</td>\n",
       "      <td>0.15</td>\n",
       "      <td>1.52</td>\n",
       "    </tr>\n",
       "    <tr>\n",
       "      <th>16</th>\n",
       "      <td>0.89</td>\n",
       "      <td>0.65</td>\n",
       "      <td>0.16</td>\n",
       "      <td>1.54</td>\n",
       "    </tr>\n",
       "    <tr>\n",
       "      <th>17</th>\n",
       "      <td>0.88</td>\n",
       "      <td>0.68</td>\n",
       "      <td>0.17</td>\n",
       "      <td>1.56</td>\n",
       "    </tr>\n",
       "    <tr>\n",
       "      <th>18</th>\n",
       "      <td>0.86</td>\n",
       "      <td>0.70</td>\n",
       "      <td>0.18</td>\n",
       "      <td>1.56</td>\n",
       "    </tr>\n",
       "    <tr>\n",
       "      <th>19</th>\n",
       "      <td>0.83</td>\n",
       "      <td>0.73</td>\n",
       "      <td>0.19</td>\n",
       "      <td>1.56</td>\n",
       "    </tr>\n",
       "    <tr>\n",
       "      <th>20</th>\n",
       "      <td>0.82</td>\n",
       "      <td>0.76</td>\n",
       "      <td>0.20</td>\n",
       "      <td>1.58</td>\n",
       "    </tr>\n",
       "    <tr>\n",
       "      <th>21</th>\n",
       "      <td>0.81</td>\n",
       "      <td>0.78</td>\n",
       "      <td>0.21</td>\n",
       "      <td>1.59</td>\n",
       "    </tr>\n",
       "    <tr>\n",
       "      <th>22</th>\n",
       "      <td>0.80</td>\n",
       "      <td>0.79</td>\n",
       "      <td>0.22</td>\n",
       "      <td>1.59</td>\n",
       "    </tr>\n",
       "    <tr>\n",
       "      <th>23</th>\n",
       "      <td>0.79</td>\n",
       "      <td>0.81</td>\n",
       "      <td>0.23</td>\n",
       "      <td>1.60</td>\n",
       "    </tr>\n",
       "    <tr>\n",
       "      <th>24</th>\n",
       "      <td>0.77</td>\n",
       "      <td>0.83</td>\n",
       "      <td>0.24</td>\n",
       "      <td>1.60</td>\n",
       "    </tr>\n",
       "    <tr>\n",
       "      <th>25</th>\n",
       "      <td>0.76</td>\n",
       "      <td>0.85</td>\n",
       "      <td>0.25</td>\n",
       "      <td>1.60</td>\n",
       "    </tr>\n",
       "    <tr>\n",
       "      <th>26</th>\n",
       "      <td>0.74</td>\n",
       "      <td>0.86</td>\n",
       "      <td>0.26</td>\n",
       "      <td>1.60</td>\n",
       "    </tr>\n",
       "    <tr>\n",
       "      <th>27</th>\n",
       "      <td>0.72</td>\n",
       "      <td>0.87</td>\n",
       "      <td>0.27</td>\n",
       "      <td>1.59</td>\n",
       "    </tr>\n",
       "    <tr>\n",
       "      <th>28</th>\n",
       "      <td>0.69</td>\n",
       "      <td>0.88</td>\n",
       "      <td>0.28</td>\n",
       "      <td>1.57</td>\n",
       "    </tr>\n",
       "    <tr>\n",
       "      <th>29</th>\n",
       "      <td>0.67</td>\n",
       "      <td>0.89</td>\n",
       "      <td>0.29</td>\n",
       "      <td>1.56</td>\n",
       "    </tr>\n",
       "    <tr>\n",
       "      <th>30</th>\n",
       "      <td>0.65</td>\n",
       "      <td>0.90</td>\n",
       "      <td>0.30</td>\n",
       "      <td>1.55</td>\n",
       "    </tr>\n",
       "    <tr>\n",
       "      <th>31</th>\n",
       "      <td>0.64</td>\n",
       "      <td>0.92</td>\n",
       "      <td>0.31</td>\n",
       "      <td>1.55</td>\n",
       "    </tr>\n",
       "    <tr>\n",
       "      <th>32</th>\n",
       "      <td>0.61</td>\n",
       "      <td>0.93</td>\n",
       "      <td>0.32</td>\n",
       "      <td>1.54</td>\n",
       "    </tr>\n",
       "    <tr>\n",
       "      <th>33</th>\n",
       "      <td>0.59</td>\n",
       "      <td>0.94</td>\n",
       "      <td>0.33</td>\n",
       "      <td>1.53</td>\n",
       "    </tr>\n",
       "    <tr>\n",
       "      <th>34</th>\n",
       "      <td>0.58</td>\n",
       "      <td>0.94</td>\n",
       "      <td>0.34</td>\n",
       "      <td>1.52</td>\n",
       "    </tr>\n",
       "    <tr>\n",
       "      <th>35</th>\n",
       "      <td>0.56</td>\n",
       "      <td>0.95</td>\n",
       "      <td>0.35</td>\n",
       "      <td>1.51</td>\n",
       "    </tr>\n",
       "    <tr>\n",
       "      <th>36</th>\n",
       "      <td>0.56</td>\n",
       "      <td>0.95</td>\n",
       "      <td>0.36</td>\n",
       "      <td>1.51</td>\n",
       "    </tr>\n",
       "  </tbody>\n",
       "</table>\n",
       "</div>"
      ],
      "text/plain": [
       "      0    1    2    3\n",
       "15 0.90 0.62 0.15 1.52\n",
       "16 0.89 0.65 0.16 1.54\n",
       "17 0.88 0.68 0.17 1.56\n",
       "18 0.86 0.70 0.18 1.56\n",
       "19 0.83 0.73 0.19 1.56\n",
       "20 0.82 0.76 0.20 1.58\n",
       "21 0.81 0.78 0.21 1.59\n",
       "22 0.80 0.79 0.22 1.59\n",
       "23 0.79 0.81 0.23 1.60\n",
       "24 0.77 0.83 0.24 1.60\n",
       "25 0.76 0.85 0.25 1.60\n",
       "26 0.74 0.86 0.26 1.60\n",
       "27 0.72 0.87 0.27 1.59\n",
       "28 0.69 0.88 0.28 1.57\n",
       "29 0.67 0.89 0.29 1.56\n",
       "30 0.65 0.90 0.30 1.55\n",
       "31 0.64 0.92 0.31 1.55\n",
       "32 0.61 0.93 0.32 1.54\n",
       "33 0.59 0.94 0.33 1.53\n",
       "34 0.58 0.94 0.34 1.52\n",
       "35 0.56 0.95 0.35 1.51\n",
       "36 0.56 0.95 0.36 1.51"
      ]
     },
     "execution_count": 31,
     "metadata": {},
     "output_type": "execute_result"
    }
   ],
   "source": [
    "arrpd[arrpd[3]>= 1.50]"
   ]
  },
  {
   "cell_type": "code",
   "execution_count": 32,
   "metadata": {},
   "outputs": [
    {
     "data": {
      "text/plain": [
       "MultiOutputRegressor(estimator=RandomForestRegressor(bootstrap=True, criterion='mse', max_depth=30,\n",
       "           max_features='auto', max_leaf_nodes=None,\n",
       "           min_impurity_decrease=0.0, min_impurity_split=None,\n",
       "           min_samples_leaf=1, min_samples_split=2,\n",
       "           min_weight_fraction_leaf=0.0, n_estimators=10, n_jobs=1,\n",
       "           oob_score=False, random_state=0, verbose=0, warm_start=False),\n",
       "           n_jobs=1)"
      ]
     },
     "execution_count": 32,
     "metadata": {},
     "output_type": "execute_result"
    }
   ],
   "source": [
    "from sklearn.ensemble import RandomForestRegressor\n",
    "from sklearn.multioutput import MultiOutputRegressor\n",
    "max_depth = 30\n",
    "regr_multirf = MultiOutputRegressor(RandomForestRegressor(max_depth=max_depth,\n",
    "                                                          random_state=0))\n",
    "regr_multirf.fit(X_train, y_train)"
   ]
  },
  {
   "cell_type": "code",
   "execution_count": 33,
   "metadata": {},
   "outputs": [],
   "source": [
    "y_multirf = regr_multirf.predict(X_test)\n",
    "\n",
    "#y_pred_regr_multirf = regr_multirf.predict(X_test)\n",
    "#print(accuracy_score(y_test, y_pred_regr_multirf))"
   ]
  },
  {
   "cell_type": "code",
   "execution_count": null,
   "metadata": {},
   "outputs": [],
   "source": []
  }
 ],
 "metadata": {
  "kernelspec": {
   "display_name": "Python 3",
   "language": "python",
   "name": "python3"
  },
  "language_info": {
   "codemirror_mode": {
    "name": "ipython",
    "version": 3
   },
   "file_extension": ".py",
   "mimetype": "text/x-python",
   "name": "python",
   "nbconvert_exporter": "python",
   "pygments_lexer": "ipython3",
   "version": "3.7.0"
  }
 },
 "nbformat": 4,
 "nbformat_minor": 2
}
