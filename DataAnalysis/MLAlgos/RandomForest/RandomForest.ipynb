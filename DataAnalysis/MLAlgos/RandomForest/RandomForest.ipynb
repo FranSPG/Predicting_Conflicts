{
 "cells": [
  {
   "cell_type": "code",
   "execution_count": 20,
   "metadata": {},
   "outputs": [],
   "source": [
    "import sys\n",
    "sys.path.insert(0, 'C:/Users/Franco/Documents/AnacondaProjects/Predicting_Conflicts')\n",
    "from Libs import *\n",
    "sys.path.insert(0, 'C:/Users/Franco/Documents/AnacondaProjects/Predicting_Conflicts/DataAnalysis/')\n",
    "from DataSplit import *\n",
    "from sklearn.ensemble import ExtraTreesClassifier\n",
    "from sklearn.model_selection import cross_val_score\n",
    "from time import time\n",
    "from scipy.stats import randint as sp_randint\n",
    "\n",
    "from sklearn.model_selection import GridSearchCV\n",
    "from sklearn.model_selection import RandomizedSearchCV"
   ]
  },
  {
   "cell_type": "code",
   "execution_count": 21,
   "metadata": {},
   "outputs": [
    {
     "data": {
      "text/plain": [
       "ExtraTreesClassifier(bootstrap=False, class_weight=None, criterion='gini',\n",
       "           max_depth=None, max_features='auto', max_leaf_nodes=None,\n",
       "           min_impurity_decrease=0.0, min_impurity_split=None,\n",
       "           min_samples_leaf=1, min_samples_split=2,\n",
       "           min_weight_fraction_leaf=0.0, n_estimators=1000, n_jobs=-1,\n",
       "           oob_score=False, random_state=20, verbose=0, warm_start=False)"
      ]
     },
     "execution_count": 21,
     "metadata": {},
     "output_type": "execute_result"
    }
   ],
   "source": [
    "# Random Forest Classifier\n",
    "\n",
    "# Modelo con todas las variables\n",
    "rf = RandomForestClassifier(n_estimators=1000, random_state=20, n_jobs = -1)\n",
    "rf.fit(X_train_grouped, y_train_grouped.values.ravel())\n",
    "\n",
    "rfx = ExtraTreesClassifier(n_estimators=1000, random_state=20, n_jobs=-1)\n",
    "rfx.fit(X_train, y_train.values.ravel())"
   ]
  },
  {
   "cell_type": "code",
   "execution_count": 3,
   "metadata": {},
   "outputs": [],
   "source": [
    "def report(results, n_top=3):\n",
    "    for i in range(1, n_top + 1):\n",
    "        candidates = np.flatnonzero(results['rank_test_score'] == i)\n",
    "        for candidate in candidates:\n",
    "            print(\"Model with rank: {0}\".format(i))\n",
    "            print(\"Mean validation score: {0:.3f} (std: {1:.3f})\".format(\n",
    "                  results['mean_test_score'][candidate],\n",
    "                  results['std_test_score'][candidate]))\n",
    "            print(\"Parameters: {0}\".format(results['params'][candidate]))\n",
    "            print(\"\")\n"
   ]
  },
  {
   "cell_type": "code",
   "execution_count": 4,
   "metadata": {},
   "outputs": [
    {
     "name": "stdout",
     "output_type": "stream",
     "text": [
      "RandomizedSearchCV took 70.04 seconds for 20 candidates parameter settings.\n",
      "Model with rank: 1\n",
      "Mean validation score: 0.873 (std: 0.010)\n",
      "Parameters: {'bootstrap': False, 'criterion': 'entropy', 'max_depth': None, 'max_features': 9, 'min_samples_split': 8}\n",
      "\n",
      "Model with rank: 2\n",
      "Mean validation score: 0.871 (std: 0.009)\n",
      "Parameters: {'bootstrap': False, 'criterion': 'entropy', 'max_depth': None, 'max_features': 10, 'min_samples_split': 9}\n",
      "\n",
      "Model with rank: 3\n",
      "Mean validation score: 0.866 (std: 0.008)\n",
      "Parameters: {'bootstrap': False, 'criterion': 'entropy', 'max_depth': None, 'max_features': 8, 'min_samples_split': 8}\n",
      "\n"
     ]
    }
   ],
   "source": [
    "# specify parameters and distributions to sample from\n",
    "param_dist = {\"max_depth\": [3, None],\n",
    "              \"max_features\": sp_randint(1, 13),\n",
    "              \"min_samples_split\": sp_randint(2, 11),\n",
    "              \"bootstrap\": [True, False],\n",
    "              \"criterion\": [\"gini\", \"entropy\"]}\n",
    "\n",
    "# run randomized search\n",
    "n_iter_search = 20\n",
    "random_search = RandomizedSearchCV(rf, param_distributions=param_dist,\n",
    "                                   n_iter=n_iter_search, cv=10)\n",
    "\n",
    "start = time()\n",
    "random_search.fit(X_train, y_train.values.ravel())\n",
    "print(\"RandomizedSearchCV took %.2f seconds for %d candidates\"\n",
    "      \" parameter settings.\" % ((time() - start), n_iter_search))\n",
    "report(random_search.cv_results_)"
   ]
  },
  {
   "cell_type": "code",
   "execution_count": 22,
   "metadata": {},
   "outputs": [
    {
     "data": {
      "text/plain": [
       "ExtraTreesClassifier(bootstrap=False, class_weight=None, criterion='gini',\n",
       "           max_depth=None, max_features='auto', max_leaf_nodes=None,\n",
       "           min_impurity_decrease=0.0, min_impurity_split=None,\n",
       "           min_samples_leaf=1, min_samples_split=5,\n",
       "           min_weight_fraction_leaf=0.0, n_estimators=1000, n_jobs=-1,\n",
       "           oob_score=False, random_state=20, verbose=0, warm_start=False)"
      ]
     },
     "execution_count": 22,
     "metadata": {},
     "output_type": "execute_result"
    }
   ],
   "source": [
    "rf = RandomForestClassifier(n_estimators=1000, max_depth=None, min_samples_split=5, random_state=20, n_jobs = -1, bootstrap=False, criterion='gini')\n",
    "rf.fit(X_train, y_train.values.ravel())\n",
    "\n",
    "rfx = ExtraTreesClassifier(n_estimators=1000, max_depth=None, min_samples_split=5, random_state=20, n_jobs = -1, bootstrap=False, criterion='gini')\n",
    "rfx.fit(X_train, y_train.values.ravel())"
   ]
  },
  {
   "cell_type": "code",
   "execution_count": null,
   "metadata": {},
   "outputs": [],
   "source": [
    "# use a full grid over all parameters\n",
    "param_grid = {\"max_depth\": [4,5,6,7,8],\n",
    "              \"max_features\": ['auto', 'sqrt', 'log2'],\n",
    "              \"min_samples_split\": [0.1, 3, 10],\n",
    "              \"bootstrap\": [True, False],\n",
    "              \"criterion\": [\"gini\", \"entropy\"]}\n",
    "\n",
    "# run grid search\n",
    "grid_search = GridSearchCV(rfx, param_grid=param_grid, cv=5)\n",
    "start = time()\n",
    "grid_search.fit(X_train, y_train.values.ravel())\n",
    "\n",
    "print(\"GridSearchCV took %.2f seconds for %d candidate parameter settings.\"\n",
    "      % (time() - start, len(grid_search.cv_results_['params'])))\n",
    "report(grid_search.cv_results_)"
   ]
  },
  {
   "cell_type": "code",
   "execution_count": 4,
   "metadata": {},
   "outputs": [
    {
     "data": {
      "text/plain": [
       "RandomForestClassifier(bootstrap=False, class_weight=None, criterion='gini',\n",
       "            max_depth=None, max_features='auto', max_leaf_nodes=None,\n",
       "            min_impurity_decrease=0.0, min_impurity_split=None,\n",
       "            min_samples_leaf=1, min_samples_split=5,\n",
       "            min_weight_fraction_leaf=0.0, n_estimators=1000, n_jobs=-1,\n",
       "            oob_score=False, random_state=20, verbose=0, warm_start=False)"
      ]
     },
     "execution_count": 4,
     "metadata": {},
     "output_type": "execute_result"
    }
   ],
   "source": [
    "# Modelo sin las variables conflict\n",
    "rf_sin_conflictos = RandomForestClassifier(n_estimators=1000, max_depth=None, min_samples_split=5, random_state=20, n_jobs = -1, bootstrap=False, criterion='gini')\n",
    "rf_sin_conflictos.fit(X_train_sin_conflictos, y_train_sin_conflictos.values.ravel())\n",
    "\n",
    "# Modelo únicamente con las variables conflict\n",
    "rf_solo_conflictos = RandomForestClassifier(n_estimators=1000, max_depth=None, min_samples_split=5, random_state=20, n_jobs = -1, bootstrap=False, criterion='gini')\n",
    "rf_solo_conflictos.fit(X_train_solo_conflictos, y_train_solo_conflictos.values.ravel())\n",
    "\n",
    "# Modelos con 1 variable conflicto a la vez\n",
    "\n",
    "rf_c3 = RandomForestClassifier(n_estimators=1000, max_depth=None, min_samples_split=5, random_state=20, n_jobs = -1, bootstrap=False, criterion='gini')\n",
    "rf_c3.fit(X_train_c3, y_train_c3.values.ravel())\n",
    "\n",
    "rf_c5 = RandomForestClassifier(n_estimators=1000, max_depth=None, min_samples_split=5, random_state=20, n_jobs = -1, bootstrap=False, criterion='gini')\n",
    "rf_c5.fit(X_train_c5, y_train_c5.values.ravel())\n",
    "\n",
    "rf_c10 = RandomForestClassifier(n_estimators=1000, max_depth=None, min_samples_split=5, random_state=20, n_jobs = -1, bootstrap=False, criterion='gini')\n",
    "rf_c10.fit(X_train_c10, y_train_c10.values.ravel())"
   ]
  },
  {
   "cell_type": "code",
   "execution_count": 23,
   "metadata": {},
   "outputs": [
    {
     "name": "stdout",
     "output_type": "stream",
     "text": [
      "0.8674559940966757\n",
      "0.8791898035579809\n"
     ]
    }
   ],
   "source": [
    "scores = cross_val_score(rfx, df_train_models.loc[:, ['country encoded', 'year', 'amount', 'Tools', 'Vehicles',                      \n",
    "                                                        'Weapons', 'Prom Tools', 'Prom Vehicles', 'Prom Weapons', 'conflict-1-to-3', \n",
    "                                                        'conflict-4-to-6', 'conflict-7-to-9', 'Prom USA']], \n",
    "                         df_train_models.loc[:, ['conflict']].values.ravel(), \n",
    "                         cv=10, n_jobs=-1)\n",
    "print(scores.mean())\n",
    "\n",
    "scores_rf = cross_val_score(rf, df_train_models.loc[:, ['country encoded', 'year', 'amount', 'Tools', 'Vehicles',                      \n",
    "                                                        'Weapons', 'Prom Tools', 'Prom Vehicles', 'Prom Weapons', 'conflict-1-to-3', \n",
    "                                                        'conflict-4-to-6', 'conflict-7-to-9', 'Prom USA']], \n",
    "                         df_train_models.loc[:, ['conflict']].values.ravel(), \n",
    "                         cv=10, n_jobs=-1)\n",
    "\n",
    "print(scores_rf.mean())"
   ]
  },
  {
   "cell_type": "code",
   "execution_count": 8,
   "metadata": {},
   "outputs": [
    {
     "name": "stdout",
     "output_type": "stream",
     "text": [
      "\n",
      "Accuracy\n",
      "\n",
      "0.8793296089385475\n",
      "Random Forest\n",
      "\n",
      "Entero: 0.8793296089385475\n",
      "Sin conflictos: 0.8754189944134079\n",
      "Solo conflictos: 0.8793296089385475\n",
      "\n",
      "\n",
      "Accuracy Extremely Randomized Trees\n",
      "0.8675977653631285\n",
      "Pasando de a 1 conflict a la vez:\n",
      "\n",
      " conflict-3: 0.8793296089385475\n",
      "\n",
      " conflict-5: 0.8726256983240224\n",
      "\n",
      " conflict-10: 0.8798882681564246\n",
      "\n",
      "\n",
      "Random Forest validation dataframe\n",
      "0.8855345911949686\n",
      "\n",
      "Extremely Randomized Trees validation dataframe\n",
      "0.8591194968553459\n"
     ]
    }
   ],
   "source": [
    "print(\"\\nAccuracy\\n\")\n",
    "y_pred_randforest = rf.predict(X_test)\n",
    "print(accuracy_score(y_test, y_pred_randforest))\n",
    "y_pred_randforest_sin_conflictos = rf_sin_conflictos.predict(X_test_sin_conflictos)\n",
    "y_pred_randforest_solo_conflictos = rf_solo_conflictos.predict(X_test_solo_conflictos)\n",
    "print(\"Random Forest\\n\\nEntero: {}\\nSin conflictos: {}\\nSolo conflictos: {}\\n\".format(accuracy_score(y_test, y_pred_randforest), accuracy_score(y_test_sin_conflictos, y_pred_randforest_sin_conflictos), accuracy_score(y_test_solo_conflictos, y_pred_randforest_solo_conflictos)))\n",
    "\n",
    "print(\"\\nAccuracy Extremely Randomized Trees\")\n",
    "y_pred_randforest_rfx = rfx.predict(X_test)\n",
    "print(accuracy_score(y_test, y_pred_randforest_rfx))\n",
    "\n",
    "y_pred_rf_c3 = rf_c3.predict(X_test_c3)\n",
    "y_pred_rf_c5 = rf_c5.predict(X_test_c5)\n",
    "y_pred_rf_c10 = rf_c10.predict(X_test_c10)\n",
    "print(\"Pasando de a 1 conflict a la vez:\\n\\n conflict-3: {}\\n\\n conflict-5: {}\\n\\n conflict-10: {}\\n\".format(accuracy_score(y_test_c3, y_pred_rf_c3), accuracy_score(y_test_c5, y_pred_rf_c5), accuracy_score(y_test_c10, y_pred_rf_c10)))\n",
    "\n",
    "# Accuracy con el dataframe de validación (Todas las variables)\n",
    "y_pred_randforest_validation = rf.predict(df_validation_data)\n",
    "print(\"\\nRandom Forest validation dataframe\\n{}\".format(accuracy_score(df_validation_target, y_pred_randforest_validation)))\n",
    "\n",
    "y_pred_randforest_rfx_validation = rfx.predict(df_validation_data)\n",
    "print(\"\\nExtremely Randomized Trees validation dataframe\\n{}\".format(accuracy_score(df_validation_target, y_pred_randforest_rfx_validation)))"
   ]
  },
  {
   "cell_type": "code",
   "execution_count": 8,
   "metadata": {},
   "outputs": [
    {
     "name": "stdout",
     "output_type": "stream",
     "text": [
      "\n",
      "RandForest:\n",
      " [[1471   24]\n",
      " [ 185  110]]\n",
      "\n",
      "Extremely Randomized Trees:\n",
      " [[1489    6]\n",
      " [ 217   78]]\n"
     ]
    }
   ],
   "source": [
    "# Matriz de confusión\n",
    "y_pred_randforest = rf.predict(X_test)\n",
    "y_pred_randforest_rfx = rfx.predict(X_test)\n",
    "\n",
    "cm_rf = confusion_matrix(y_test, y_pred_randforest)\n",
    "print(\"\\nRandForest:\\n {}\".format(cm_rf))\n",
    "\n",
    "cm_rfx = confusion_matrix(y_test, y_pred_randforest_rfx)\n",
    "print(\"\\nExtremely Randomized Trees:\\n {}\".format(cm_rfx))"
   ]
  },
  {
   "cell_type": "code",
   "execution_count": 9,
   "metadata": {},
   "outputs": [
    {
     "name": "stdout",
     "output_type": "stream",
     "text": [
      "\n",
      "RandForest:\n",
      " [[1469   27]\n",
      " [ 189  105]]\n",
      "\n",
      "Extremely Randomized Trees:\n",
      " [[1480   16]\n",
      " [ 221   73]]\n",
      "\n",
      "Random Forest validation dataframe:\n",
      "[[650   8]\n",
      " [ 83  54]]\n",
      "\n",
      "Conflict-3 \n",
      "[[1445   35]\n",
      " [ 181  129]]\n",
      "Conflict-5 \n",
      "[[1449   24]\n",
      " [ 204  113]]\n",
      "Conflict-10 \n",
      "[[1472   25]\n",
      " [ 190  103]]\n",
      "\n"
     ]
    }
   ],
   "source": [
    "## Matriz de confusión dataframe de validacion\n",
    "cm_rf_validation = confusion_matrix(df_validation_target, y_pred_randforest_validation)\n",
    "print(\"\\nRandom Forest validation dataframe:\\n{}\".format(cm_rf_validation))\n",
    "\n",
    "# Matriz de confusion variables conflict\n",
    "cm_rf_c3 = confusion_matrix(y_test_c3, y_pred_rf_c3)\n",
    "cm_rf_c5 = confusion_matrix(y_test_c5, y_pred_rf_c5)\n",
    "cm_rf_c10 = confusion_matrix(y_test_c10, y_pred_rf_c10)\n",
    "print(\"\\nConflict-3 \\n{}\\nConflict-5 \\n{}\\nConflict-10 \\n{}\\n\".format(cm_rf_c3, cm_rf_c5, cm_rf_c10))"
   ]
  },
  {
   "cell_type": "code",
   "execution_count": 9,
   "metadata": {},
   "outputs": [
    {
     "data": {
      "text/plain": [
       "False    1495\n",
       "True      295\n",
       "Name: conflict, dtype: int64"
      ]
     },
     "execution_count": 9,
     "metadata": {},
     "output_type": "execute_result"
    }
   ],
   "source": [
    "y_test['conflict'].value_counts()"
   ]
  },
  {
   "cell_type": "code",
   "execution_count": 10,
   "metadata": {},
   "outputs": [
    {
     "data": {
      "text/plain": [
       "0.164804469273743"
      ]
     },
     "execution_count": 10,
     "metadata": {},
     "output_type": "execute_result"
    }
   ],
   "source": [
    "y_test['conflict'].mean()"
   ]
  },
  {
   "cell_type": "code",
   "execution_count": 11,
   "metadata": {},
   "outputs": [
    {
     "data": {
      "text/plain": [
       "0.835195530726257"
      ]
     },
     "execution_count": 11,
     "metadata": {},
     "output_type": "execute_result"
    }
   ],
   "source": [
    "1 - y_test['conflict'].mean()"
   ]
  },
  {
   "cell_type": "code",
   "execution_count": 12,
   "metadata": {},
   "outputs": [
    {
     "name": "stdout",
     "output_type": "stream",
     "text": [
      "[0.00416667 0.35383333 0.59158333 0.00633333 0.13733333]\n"
     ]
    }
   ],
   "source": [
    "y_pred_prob = rf.predict_proba(X_test)[:, 1]\n",
    "print(y_pred_prob[:5])"
   ]
  },
  {
   "cell_type": "code",
   "execution_count": 13,
   "metadata": {},
   "outputs": [],
   "source": [
    "%matplotlib inline\n",
    "plt.rcParams['font.size'] = 14"
   ]
  },
  {
   "cell_type": "code",
   "execution_count": 14,
   "metadata": {},
   "outputs": [
    {
     "data": {
      "text/plain": [
       "(0, 1)"
      ]
     },
     "execution_count": 14,
     "metadata": {},
     "output_type": "execute_result"
    },
    {
     "data": {
      "image/png": "[encoded data removed]",
      "text/plain": [
       "<Figure size 432x288 with 1 Axes>"
      ]
     },
     "metadata": {
      "needs_background": "light"
     },
     "output_type": "display_data"
    }
   ],
   "source": [
    "plt.hist(y_pred_prob, bins = 10)\n",
    "plt.xlim(0, 1)"
   ]
  },
  {
   "cell_type": "code",
   "execution_count": 15,
   "metadata": {},
   "outputs": [],
   "source": [
    "from sklearn.preprocessing import binarize\n",
    "y_pred_class = binarize([y_pred_prob], 0.32)[0]"
   ]
  },
  {
   "cell_type": "code",
   "execution_count": 16,
   "metadata": {},
   "outputs": [
    {
     "data": {
      "text/plain": [
       "array([0., 1., 1., ..., 1., 0., 0.])"
      ]
     },
     "execution_count": 16,
     "metadata": {},
     "output_type": "execute_result"
    }
   ],
   "source": [
    "y_pred_class[:]"
   ]
  },
  {
   "cell_type": "code",
   "execution_count": 17,
   "metadata": {},
   "outputs": [
    {
     "name": "stdout",
     "output_type": "stream",
     "text": [
      "[[1471   24]\n",
      " [ 185  110]]\n"
     ]
    }
   ],
   "source": [
    "print(cm_rf)"
   ]
  },
  {
   "cell_type": "code",
   "execution_count": 18,
   "metadata": {},
   "outputs": [
    {
     "name": "stdout",
     "output_type": "stream",
     "text": [
      "[[1386  109]\n",
      " [ 119  176]]\n"
     ]
    }
   ],
   "source": [
    "print(confusion_matrix(y_test, y_pred_class))"
   ]
  },
  {
   "cell_type": "code",
   "execution_count": 19,
   "metadata": {},
   "outputs": [
    {
     "data": {
      "image/png": "[encoded data removed]",
      "text/plain": [
       "<Figure size 432x288 with 1 Axes>"
      ]
     },
     "metadata": {
      "needs_background": "light"
     },
     "output_type": "display_data"
    }
   ],
   "source": [
    "from sklearn import metrics\n",
    "fpr, tpr, thresholds = metrics.roc_curve(y_test, y_pred_prob)\n",
    "plt.plot(fpr, tpr)\n",
    "plt.xlim([0.0, 1.0])\n",
    "plt.ylim([0.0, 1.0])\n",
    "plt.title('ROC curve')\n",
    "plt.xlabel('False Positive Rate (1 - Specificity)')\n",
    "plt.ylabel('True Positive Rate (Sensitivity)')\n",
    "plt.grid(True)"
   ]
  },
  {
   "cell_type": "code",
   "execution_count": 33,
   "metadata": {},
   "outputs": [
    {
     "name": "stdout",
     "output_type": "stream",
     "text": [
      "0\n",
      "1\n",
      "2\n",
      "3\n",
      "4\n",
      "5\n",
      "6\n",
      "7\n",
      "8\n",
      "9\n"
     ]
    }
   ],
   "source": [
    "for x in range(10):\n",
    "    print(x)"
   ]
  },
  {
   "cell_type": "code",
   "execution_count": 104,
   "metadata": {},
   "outputs": [
    {
     "name": "stdout",
     "output_type": "stream",
     "text": [
      "[[  50 1445]\n",
      " [   1  294]]\n",
      "[[ 437 1058]\n",
      " [   9  286]]\n",
      "[[764 731]\n",
      " [ 21 274]]\n",
      "[[982 513]\n",
      " [ 40 255]]\n",
      "[[1136  359]\n",
      " [  68  227]]\n",
      "[[1278  217]\n",
      " [  92  203]]\n",
      "[[1365  130]\n",
      " [ 113  182]]\n",
      "[[1407   88]\n",
      " [ 126  169]]\n",
      "[[1437   58]\n",
      " [ 155  140]]\n",
      "[[1461   34]\n",
      " [ 178  117]]\n",
      "[[1471   24]\n",
      " [ 185  110]]\n",
      "[[1480   15]\n",
      " [ 197   98]]\n",
      "[[1486    9]\n",
      " [ 220   75]]\n",
      "[[1488    7]\n",
      " [ 239   56]]\n",
      "[[1492    3]\n",
      " [ 248   47]]\n",
      "[[1493    2]\n",
      " [ 257   38]]\n",
      "[[1495    0]\n",
      " [ 270   25]]\n",
      "[[1495    0]\n",
      " [ 280   15]]\n",
      "[[1495    0]\n",
      " [ 284   11]]\n",
      "[[1495    0]\n",
      " [ 293    2]]\n"
     ]
    }
   ],
   "source": [
    "rang = np.arange(0, 1, 0.05)\n",
    "arr_confusion_matrix = []\n",
    "\n",
    "\n",
    "for x in rang:\n",
    "    y_pred_class = binarize([y_pred_prob], x)[0]\n",
    "    confusionMatrix=confusion_matrix(y_test, y_pred_class)\n",
    "    falsePositive = confusionMatrix[1][0]\n",
    "    falseNegative = confusionMatrix[0][1]\n",
    "    total = confusionMatrix[0][0] + confusionMatrix[1][1]\n",
    "    \n",
    "    arr_confusion_matrix.append([falsePositive, falseNegative, total, x])\n",
    "    \n",
    "    print(confusionMatrix)"
   ]
  },
  {
   "cell_type": "code",
   "execution_count": 105,
   "metadata": {},
   "outputs": [],
   "source": [
    "arr_confusion_matrix = np.array(arr_confusion_matrix)"
   ]
  },
  {
   "cell_type": "code",
   "execution_count": 106,
   "metadata": {},
   "outputs": [
    {
     "data": {
      "text/plain": [
       "array([[1.000e+00, 1.445e+03, 3.440e+02, 0.000e+00],\n",
       "       [9.000e+00, 1.058e+03, 7.230e+02, 5.000e-02],\n",
       "       [2.100e+01, 7.310e+02, 1.038e+03, 1.000e-01],\n",
       "       [4.000e+01, 5.130e+02, 1.237e+03, 1.500e-01],\n",
       "       [6.800e+01, 3.590e+02, 1.363e+03, 2.000e-01],\n",
       "       [9.200e+01, 2.170e+02, 1.481e+03, 2.500e-01],\n",
       "       [1.130e+02, 1.300e+02, 1.547e+03, 3.000e-01],\n",
       "       [1.260e+02, 8.800e+01, 1.576e+03, 3.500e-01],\n",
       "       [1.550e+02, 5.800e+01, 1.577e+03, 4.000e-01],\n",
       "       [1.780e+02, 3.400e+01, 1.578e+03, 4.500e-01],\n",
       "       [1.850e+02, 2.400e+01, 1.581e+03, 5.000e-01],\n",
       "       [1.970e+02, 1.500e+01, 1.578e+03, 5.500e-01],\n",
       "       [2.200e+02, 9.000e+00, 1.561e+03, 6.000e-01],\n",
       "       [2.390e+02, 7.000e+00, 1.544e+03, 6.500e-01],\n",
       "       [2.480e+02, 3.000e+00, 1.539e+03, 7.000e-01],\n",
       "       [2.570e+02, 2.000e+00, 1.531e+03, 7.500e-01],\n",
       "       [2.700e+02, 0.000e+00, 1.520e+03, 8.000e-01],\n",
       "       [2.800e+02, 0.000e+00, 1.510e+03, 8.500e-01],\n",
       "       [2.840e+02, 0.000e+00, 1.506e+03, 9.000e-01],\n",
       "       [2.930e+02, 0.000e+00, 1.497e+03, 9.500e-01]])"
      ]
     },
     "execution_count": 106,
     "metadata": {},
     "output_type": "execute_result"
    }
   ],
   "source": [
    "arr_confusion_matrix"
   ]
  },
  {
   "cell_type": "code",
   "execution_count": 107,
   "metadata": {},
   "outputs": [
    {
     "data": {
      "text/plain": [
       "array([[1.000e+00, 9.000e+00, 2.100e+01, 4.000e+01, 6.800e+01, 9.200e+01,\n",
       "        1.130e+02, 1.260e+02, 1.550e+02, 1.780e+02, 1.850e+02, 1.970e+02,\n",
       "        2.200e+02, 2.390e+02, 2.480e+02, 2.570e+02, 2.700e+02, 2.800e+02,\n",
       "        2.840e+02, 2.930e+02],\n",
       "       [1.445e+03, 1.058e+03, 7.310e+02, 5.130e+02, 3.590e+02, 2.170e+02,\n",
       "        1.300e+02, 8.800e+01, 5.800e+01, 3.400e+01, 2.400e+01, 1.500e+01,\n",
       "        9.000e+00, 7.000e+00, 3.000e+00, 2.000e+00, 0.000e+00, 0.000e+00,\n",
       "        0.000e+00, 0.000e+00],\n",
       "       [3.440e+02, 7.230e+02, 1.038e+03, 1.237e+03, 1.363e+03, 1.481e+03,\n",
       "        1.547e+03, 1.576e+03, 1.577e+03, 1.578e+03, 1.581e+03, 1.578e+03,\n",
       "        1.561e+03, 1.544e+03, 1.539e+03, 1.531e+03, 1.520e+03, 1.510e+03,\n",
       "        1.506e+03, 1.497e+03],\n",
       "       [0.000e+00, 5.000e-02, 1.000e-01, 1.500e-01, 2.000e-01, 2.500e-01,\n",
       "        3.000e-01, 3.500e-01, 4.000e-01, 4.500e-01, 5.000e-01, 5.500e-01,\n",
       "        6.000e-01, 6.500e-01, 7.000e-01, 7.500e-01, 8.000e-01, 8.500e-01,\n",
       "        9.000e-01, 9.500e-01]])"
      ]
     },
     "execution_count": 107,
     "metadata": {},
     "output_type": "execute_result"
    }
   ],
   "source": [
    "arr_confusion_matrix.T"
   ]
  },
  {
   "cell_type": "code",
   "execution_count": 108,
   "metadata": {},
   "outputs": [],
   "source": [
    "xx = arr_confusion_matrix.T[3]\n"
   ]
  },
  {
   "cell_type": "code",
   "execution_count": 109,
   "metadata": {},
   "outputs": [],
   "source": [
    "y0 = arr_confusion_matrix.T[0]\n",
    "y1 = arr_confusion_matrix.T[1]\n",
    "y2 = arr_confusion_matrix.T[2]"
   ]
  },
  {
   "cell_type": "code",
   "execution_count": 110,
   "metadata": {},
   "outputs": [
    {
     "data": {
      "image/png": "[encoded data removed]",
      "text/plain": [
       "<Figure size 432x288 with 1 Axes>"
      ]
     },
     "metadata": {
      "needs_background": "light"
     },
     "output_type": "display_data"
    }
   ],
   "source": [
    "plt.plot(xx, y0, label = 'False Positive')\n",
    "plt.plot(xx, y1, label = 'False Negative')\n",
    "plt.plot(xx, y2, label = 'Total')\n",
    "\n",
    "plt.xlabel('Prob X')\n",
    "plt.legend()\n",
    "plt.show()"
   ]
  },
  {
   "cell_type": "code",
   "execution_count": null,
   "metadata": {},
   "outputs": [],
   "source": []
  }
 ],
 "metadata": {
  "kernelspec": {
   "display_name": "Python 3",
   "language": "python",
   "name": "python3"
  },
  "language_info": {
   "codemirror_mode": {
    "name": "ipython",
    "version": 3
   },
   "file_extension": ".py",
   "mimetype": "text/x-python",
   "name": "python",
   "nbconvert_exporter": "python",
   "pygments_lexer": "ipython3",
   "version": "3.7.0"
  }
 },
 "nbformat": 4,
 "nbformat_minor": 2
}
