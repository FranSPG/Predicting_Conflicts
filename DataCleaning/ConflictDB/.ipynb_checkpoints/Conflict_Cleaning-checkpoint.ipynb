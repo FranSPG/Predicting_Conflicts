{
 "cells": [
  {
   "cell_type": "code",
   "execution_count": 1,
   "metadata": {},
   "outputs": [],
   "source": [
    "import sys\n",
    "sys.path.insert(0, 'C:/Users/Franco/AnacondaProjects/Proyecto-Investigacion')\n",
    "from Libs import *"
   ]
  },
  {
   "cell_type": "code",
   "execution_count": 2,
   "metadata": {},
   "outputs": [],
   "source": [
    "# Reading 2 csv\n",
    "\n",
    "conflict_csv = pd.read_csv('C:/Users/Franco/AnacondaProjects/Proyecto-Investigacion/Data Cleaning/Conflict DB/ucdp-prio-acd-172.csv', index_col='conflict_id')\n",
    "conflict2_csv = pd.read_csv('C:/Users/Franco/AnacondaProjects/Proyecto-Investigacion/Data Cleaning/Conflict DB/ucdp-dyadic-172.csv', index_col='conflict_id')\n",
    "\n",
    "# We'll use conflict2\n",
    "\n",
    "# Cleaning location column\n",
    "\n",
    "conflict2_csv['location'] = conflict2_csv['location'].str.strip()\n",
    "conflict2_csv['location'] = conflict2_csv['location'].str.strip().str.replace('Myanmar \\(Burma\\)', 'Myanmar').str.replace('Cambodia \\(Kampuchea\\)','Cambodia').str.replace('Russia \\(Soviet Union\\)','Russia').str.replace('Serbia \\(Yugoslavia\\)','Serbia').str.replace('Madagascar (Malagasy)', 'Madagascar')"
   ]
  },
  {
   "cell_type": "code",
   "execution_count": 3,
   "metadata": {},
   "outputs": [],
   "source": [
    "# We're going to use only this two columns of this csv (location and year)\n",
    "\n",
    "df_conflicto = conflict2_csv.loc[:, ['location', 'year']]"
   ]
  },
  {
   "cell_type": "code",
   "execution_count": 4,
   "metadata": {},
   "outputs": [],
   "source": [
    "# Splitting up the rows which has two or more countries names values and creating one individual row for country per year\n",
    "\n",
    "df_conflicto_new = pd.DataFrame(df_conflicto['location'].str.split(',').tolist(), index=df_conflicto['year']).stack().reset_index(level=1, drop=True).reset_index(name='location')\n",
    "df_conflicto_new['location'] = df_conflicto_new['location'].str.strip()"
   ]
  },
  {
   "cell_type": "code",
   "execution_count": 9,
   "metadata": {},
   "outputs": [],
   "source": [
    "# Converting the dataframe into CSV\n",
    "\n",
    "df_conflicto_new.to_csv('df_conflicto.csv')"
   ]
  },
  {
   "cell_type": "code",
   "execution_count": null,
   "metadata": {},
   "outputs": [],
   "source": []
  }
 ],
 "metadata": {
  "kernelspec": {
   "display_name": "Python 3",
   "language": "python",
   "name": "python3"
  },
  "language_info": {
   "codemirror_mode": {
    "name": "ipython",
    "version": 3
   },
   "file_extension": ".py",
   "mimetype": "text/x-python",
   "name": "python",
   "nbconvert_exporter": "python",
   "pygments_lexer": "ipython3",
   "version": "3.6.5"
  }
 },
 "nbformat": 4,
 "nbformat_minor": 2
}
