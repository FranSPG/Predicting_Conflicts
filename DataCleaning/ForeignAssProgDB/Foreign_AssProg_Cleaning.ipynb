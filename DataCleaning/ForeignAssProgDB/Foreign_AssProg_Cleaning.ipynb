{
 "cells": [
  {
   "cell_type": "code",
   "execution_count": 9,
   "metadata": {},
   "outputs": [],
   "source": [
    "import sys\n",
    "sys.path.insert(0, 'C:/Users/Franco/Documents/AnacondaProjects/Predicting_Conflicts')\n",
    "from Libs import *"
   ]
  },
  {
   "cell_type": "code",
   "execution_count": 10,
   "metadata": {},
   "outputs": [],
   "source": [
    "# Reading 2 csv\n",
    "\n",
    "total_csv = pd.read_csv('C:/Users/Franco/Documents/AnacondaProjects/Predicting_Conflicts/DataCleaning/ForeignAssProgDB/Foreign Assistance program_Totals.csv', index_col='key')\n",
    "detail_csv = pd.read_csv('C:/Users/Franco/Documents/AnacondaProjects/Predicting_Conflicts/DataCleaning/ForeignAssProgDB/Foreign Assistance program_details.csv', index_col='key')"
   ]
  },
  {
   "cell_type": "code",
   "execution_count": 11,
   "metadata": {},
   "outputs": [],
   "source": [
    "# Dropping unnecessary columns\n",
    "\n",
    "drop_total = ['expenditures', 'estimate', 'footnote', 'footnote2']\n",
    "drop_detail = ['trainees',\n",
    "               'recipient_unit', 'training_institution', \n",
    "               'location', 'course_title', 'model', \n",
    "               'eda_implementing_agency', 'eda_delivered_quantity',\n",
    "               'eda_delivered_date', 'eda_unit_current_value',\n",
    "               'eda_offered_current_value', 'eda_delivered_acquisition_value',\n",
    "               'footnote']\n",
    "\n",
    "total_csv.drop(drop_total, axis=1, inplace=True)\n",
    "detail_csv.drop(drop_detail, axis=1, inplace=True)\n",
    "detail_csv.drop(index= [20920, 27182], axis=0, inplace=True)\n",
    "detail_csv.dropna(inplace=True)\n",
    "total_csv.dropna(inplace=True)\n",
    "\n",
    "# Cleaning country columns\n",
    "\n",
    "total_csv['program'] = total_csv['program'].str.strip()\n",
    "detail_csv['program'] = detail_csv['program'].str.strip()\n",
    "detail_csv['country'] = detail_csv['country'].str.strip().str.replace('(\\n)', ' ').str.replace('Trinidad-Tobago', 'Trinidad and Tobago').str.replace('Western Hemishpere Regional', 'Western Hemisphere Regional').str.replace('Columbia', 'Colombia').str.replace('EI Salvador', 'El Salvador').str.replace('Ethionia', 'Ethiopia').str.replace('Hungray', 'Hungary').str.replace('Latin America Regional', 'Latin America Region').str.replace('Morocoo', 'Morocco').str.replace('Nicaruaga', 'Nicaragua')\n",
    "total_csv['country'] = total_csv['country'].str.strip().str.replace('(\\n)', ' ').str.replace('Trinidad-Tobago', 'Trinidad and Tobago').str.replace('Western Hemishpere Regional', 'Western Hemisphere Regional').str.replace('Columbia', 'Colombia').str.replace('EI Salvador', 'El Salvador').str.replace('Ethionia', 'Ethiopia').str.replace('Hungray', 'Hungary').str.replace('Latin America Regional', 'Latin America Region').str.replace('Morocoo', 'Morocco').str.replace('Nicaruaga', 'Nicaragua').str.replace('Republic of Congo \\(Brazzaville\\)','Congo').str.replace('Democratic Republic of Congo \\(Kinshasa\\)','Congo')"
   ]
  },
  {
   "cell_type": "code",
   "execution_count": 14,
   "metadata": {},
   "outputs": [],
   "source": [
    "# Grouping by country and year, the total sum of spent amount\n",
    "\n",
    "df_total = pd.DataFrame(total_csv.groupby(['country', 'year'])['amount'].sum())\n",
    "df_total.reset_index(inplace=True)"
   ]
  },
  {
   "cell_type": "code",
   "execution_count": 15,
   "metadata": {},
   "outputs": [],
   "source": [
    "# Converting the dataframe into CSV\n",
    "\n",
    "df_total.to_csv('df_total.csv')"
   ]
  },
  {
   "cell_type": "code",
   "execution_count": null,
   "metadata": {},
   "outputs": [],
   "source": []
  }
 ],
 "metadata": {
  "kernelspec": {
   "display_name": "Python 3",
   "language": "python",
   "name": "python3"
  },
  "language_info": {
   "codemirror_mode": {
    "name": "ipython",
    "version": 3
   },
   "file_extension": ".py",
   "mimetype": "text/x-python",
   "name": "python",
   "nbconvert_exporter": "python",
   "pygments_lexer": "ipython3",
   "version": "3.6.5"
  }
 },
 "nbformat": 4,
 "nbformat_minor": 2
}
