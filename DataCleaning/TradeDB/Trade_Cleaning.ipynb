{
 "cells": [
  {
   "cell_type": "code",
   "execution_count": 1,
   "metadata": {},
   "outputs": [],
   "source": [
    "import sys\n",
    "sys.path.insert(0, 'C:/Users/Franco/AnacondaProjects/Proyecto-Investigacion')\n",
    "from Libs import *"
   ]
  },
  {
   "cell_type": "code",
   "execution_count": 11,
   "metadata": {},
   "outputs": [],
   "source": [
    "trade_csv = pd.read_csv('C:/Users/Franco/AnacondaProjects/Proyecto-Investigacion/Trade Register/Trade-Register-Recipient-1950-2017.csv')\n",
    "trade_with_types_csv = pd.read_csv('C:/Users/Franco/AnacondaProjects/Proyecto-Investigacion/Trade Register/TradeWithTypes.csv')\n",
    "trade_with_types_csv_copy = pd.DataFrame(trade_with_types_csv)\n",
    "\n",
    "\n",
    "trade_with_types_csv['Suppliers'] = trade_with_types_csv['Suppliers'].str.strip()\n",
    "trade_with_types_csv['Designation'] = trade_with_types_csv['Designation'].str.strip()\n",
    "trade_with_types_csv['Recipient'] = trade_with_types_csv['Recipient'].str.strip()\n",
    "trade_with_types_csv['Comments'] = trade_with_types_csv['Comments'].str.strip().str.replace('(\\n)', '')\n",
    "trade_with_types_csv['Year Weapon of order'] = trade_with_types_csv['Year Weapon of order'].str.strip().str.replace('\\(', '').str.replace('\\)', '')\n",
    "trade_with_types_csv['Ordered'] = trade_with_types_csv['Ordered'].str.strip().str.replace('\\(', '').str.replace('\\)', '')\n",
    "trade_with_types_csv['Or delivered'] = trade_with_types_csv['Or delivered'].str.strip().str.replace('\\(', '').str.replace('\\)', '')\n",
    "\n",
    "index = trade_with_types_csv.index[trade_with_types_csv['Recipient'].str.contains('\\*')]\n",
    "index = index.tolist()\n",
    "trade_with_types_csv.drop(trade_with_types_csv.index[index], inplace=True)\n",
    "\n",
    "# Deleting rows with 'Missing[]' values\n",
    "trade_with_types_csv.drop(trade_with_types_csv[trade_with_types_csv['Ordered'] == 'Missing[]'].index, inplace=True)\n",
    "\n",
    "# Transforming the 'Ordered' column to float\n",
    "trade_with_types_csv.Ordered = pd.to_numeric(trade_with_types_csv['Ordered'], errors='coerce')\n"
   ]
  },
  {
   "cell_type": "code",
   "execution_count": 14,
   "metadata": {},
   "outputs": [],
   "source": [
    "# Grouping by 'Recipient', 'Year Weapon of order', 'Type' of weapon.\n",
    "trade_with_types_csv = pd.DataFrame(trade_with_types_csv.groupby(['Recipient', 'Year Weapon of order', 'Type'])['Ordered'].sum().unstack())\n",
    "\n",
    "# Resetting the index\n",
    "trade_with_types_csv.reset_index(inplace=True)"
   ]
  },
  {
   "cell_type": "code",
   "execution_count": 16,
   "metadata": {},
   "outputs": [],
   "source": [
    "# Creating the average columns \n",
    "\n",
    "trade_with_types_csv['Prom Tools'] = np.zeros(len(trade_with_types_csv))\n",
    "trade_with_types_csv['Prom Vehicles'] = np.zeros(len(trade_with_types_csv))\n",
    "trade_with_types_csv['Prom Weapons'] = np.zeros(len(trade_with_types_csv))"
   ]
  },
  {
   "cell_type": "code",
   "execution_count": 17,
   "metadata": {},
   "outputs": [],
   "source": [
    "# Converting the dataframe into CSV\n",
    "\n",
    "trade_with_types_csv.to_csv('TradeClean.csv')"
   ]
  },
  {
   "cell_type": "code",
   "execution_count": null,
   "metadata": {},
   "outputs": [],
   "source": []
  }
 ],
 "metadata": {
  "kernelspec": {
   "display_name": "Python 3",
   "language": "python",
   "name": "python3"
  },
  "language_info": {
   "codemirror_mode": {
    "name": "ipython",
    "version": 3
   },
   "file_extension": ".py",
   "mimetype": "text/x-python",
   "name": "python",
   "nbconvert_exporter": "python",
   "pygments_lexer": "ipython3",
   "version": "3.6.5"
  }
 },
 "nbformat": 4,
 "nbformat_minor": 2
}
