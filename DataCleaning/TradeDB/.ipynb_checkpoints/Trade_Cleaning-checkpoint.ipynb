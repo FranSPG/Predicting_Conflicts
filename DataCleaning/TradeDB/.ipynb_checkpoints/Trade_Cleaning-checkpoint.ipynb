{
 "cells": [
  {
   "cell_type": "code",
   "execution_count": 5,
   "metadata": {},
   "outputs": [],
   "source": [
    "import sys\n",
    "sys.path.insert(0, 'C:/Users/Franco/Documents/AnacondaProjects/Predicting_Conflicts')\n",
    "from Libs import *"
   ]
  },
  {
   "cell_type": "code",
   "execution_count": 6,
   "metadata": {},
   "outputs": [],
   "source": [
    "#trade_csv = pd.read_csv('C:/Users/Franco/Documents/AnacondaProjects/Predicting_Conflicts/DataCleaning/TradeBD')\n",
    "trade_with_types_csv = pd.read_csv('C:/Users/Franco/Documents/AnacondaProjects/Predicting_Conflicts/DataCleaning/TradeDB/TradeWithTypes.csv')\n",
    "trade_with_types_csv_copy = pd.DataFrame(trade_with_types_csv)\n",
    "\n",
    "\n",
    "trade_with_types_csv['Suppliers'] = trade_with_types_csv['Suppliers'].str.strip()\n",
    "trade_with_types_csv['Designation'] = trade_with_types_csv['Designation'].str.strip()\n",
    "trade_with_types_csv['Recipient'] = trade_with_types_csv['Recipient'].str.strip()\n",
    "trade_with_types_csv['Comments'] = trade_with_types_csv['Comments'].str.strip().str.replace('(\\n)', '')\n",
    "trade_with_types_csv['Year Weapon of order'] = trade_with_types_csv['Year Weapon of order'].str.strip().str.replace('\\(', '').str.replace('\\)', '')\n",
    "trade_with_types_csv['Ordered'] = trade_with_types_csv['Ordered'].str.strip().str.replace('\\(', '').str.replace('\\)', '')\n",
    "trade_with_types_csv['Or delivered'] = trade_with_types_csv['Or delivered'].str.strip().str.replace('\\(', '').str.replace('\\)', '')\n",
    "\n",
    "index = trade_with_types_csv.index[trade_with_types_csv['Recipient'].str.contains('\\*')]\n",
    "index = index.tolist()\n",
    "trade_with_types_csv.drop(trade_with_types_csv.index[index], inplace=True)\n",
    "\n",
    "# Deleting rows with 'Missing[]' values\n",
    "trade_with_types_csv.drop(trade_with_types_csv[trade_with_types_csv['Ordered'] == 'Missing[]'].index, inplace=True)\n",
    "\n",
    "# Transforming the 'Ordered' column to float\n",
    "trade_with_types_csv.Ordered = pd.to_numeric(trade_with_types_csv['Ordered'], errors='coerce')\n"
   ]
  },
  {
   "cell_type": "code",
   "execution_count": 7,
   "metadata": {},
   "outputs": [],
   "source": [
    "# Grouping by 'Recipient', 'Year Weapon of order', 'Type' of weapon.\n",
    "trade_with_types_csv = pd.DataFrame(trade_with_types_csv.groupby(['Recipient', 'Year Weapon of order', 'Type'])['Ordered'].sum().unstack())\n",
    "\n",
    "# Resetting the index\n",
    "trade_with_types_csv.reset_index(inplace=True)"
   ]
  },
  {
   "cell_type": "code",
   "execution_count": 11,
   "metadata": {},
   "outputs": [],
   "source": [
    "trade_with_types_csv.fillna(0, inplace=True)"
   ]
  },
  {
   "cell_type": "code",
   "execution_count": 12,
   "metadata": {},
   "outputs": [
    {
     "data": {
      "text/html": [
       "<div>\n",
       "<style scoped>\n",
       "    .dataframe tbody tr th:only-of-type {\n",
       "        vertical-align: middle;\n",
       "    }\n",
       "\n",
       "    .dataframe tbody tr th {\n",
       "        vertical-align: top;\n",
       "    }\n",
       "\n",
       "    .dataframe thead th {\n",
       "        text-align: right;\n",
       "    }\n",
       "</style>\n",
       "<table border=\"1\" class=\"dataframe\">\n",
       "  <thead>\n",
       "    <tr style=\"text-align: right;\">\n",
       "      <th>Type</th>\n",
       "      <th>Recipient</th>\n",
       "      <th>Year Weapon of order</th>\n",
       "      <th>Tools</th>\n",
       "      <th>Vehicles</th>\n",
       "      <th>Weapons</th>\n",
       "    </tr>\n",
       "  </thead>\n",
       "  <tbody>\n",
       "    <tr>\n",
       "      <th>0</th>\n",
       "      <td>Afghanistan</td>\n",
       "      <td>1955</td>\n",
       "      <td>0.00</td>\n",
       "      <td>184.00</td>\n",
       "      <td>0.00</td>\n",
       "    </tr>\n",
       "    <tr>\n",
       "      <th>1</th>\n",
       "      <td>Afghanistan</td>\n",
       "      <td>1956</td>\n",
       "      <td>0.00</td>\n",
       "      <td>32.00</td>\n",
       "      <td>0.00</td>\n",
       "    </tr>\n",
       "    <tr>\n",
       "      <th>2</th>\n",
       "      <td>Afghanistan</td>\n",
       "      <td>1958</td>\n",
       "      <td>0.00</td>\n",
       "      <td>50.00</td>\n",
       "      <td>450.00</td>\n",
       "    </tr>\n",
       "    <tr>\n",
       "      <th>3</th>\n",
       "      <td>Afghanistan</td>\n",
       "      <td>1960</td>\n",
       "      <td>0.00</td>\n",
       "      <td>74.00</td>\n",
       "      <td>200.00</td>\n",
       "    </tr>\n",
       "    <tr>\n",
       "      <th>4</th>\n",
       "      <td>Afghanistan</td>\n",
       "      <td>1961</td>\n",
       "      <td>0.00</td>\n",
       "      <td>100.00</td>\n",
       "      <td>250.00</td>\n",
       "    </tr>\n",
       "  </tbody>\n",
       "</table>\n",
       "</div>"
      ],
      "text/plain": [
       "Type    Recipient Year Weapon of order  Tools  Vehicles  Weapons\n",
       "0     Afghanistan                 1955   0.00    184.00     0.00\n",
       "1     Afghanistan                 1956   0.00     32.00     0.00\n",
       "2     Afghanistan                 1958   0.00     50.00   450.00\n",
       "3     Afghanistan                 1960   0.00     74.00   200.00\n",
       "4     Afghanistan                 1961   0.00    100.00   250.00"
      ]
     },
     "execution_count": 12,
     "metadata": {},
     "output_type": "execute_result"
    }
   ],
   "source": [
    "trade_with_types_csv.head()"
   ]
  },
  {
   "cell_type": "code",
   "execution_count": 13,
   "metadata": {},
   "outputs": [],
   "source": [
    "# Creating the average columns \n",
    "\n",
    "trade_with_types_csv['Prom Tools'] = np.zeros(len(trade_with_types_csv))\n",
    "trade_with_types_csv['Prom Vehicles'] = np.zeros(len(trade_with_types_csv))\n",
    "trade_with_types_csv['Prom Weapons'] = np.zeros(len(trade_with_types_csv))"
   ]
  },
  {
   "cell_type": "code",
   "execution_count": 14,
   "metadata": {},
   "outputs": [],
   "source": [
    "# Converting the dataframe into CSV\n",
    "\n",
    "trade_with_types_csv.to_csv('TradeClean.csv')"
   ]
  },
  {
   "cell_type": "code",
   "execution_count": null,
   "metadata": {},
   "outputs": [],
   "source": []
  }
 ],
 "metadata": {
  "kernelspec": {
   "display_name": "Python 3",
   "language": "python",
   "name": "python3"
  },
  "language_info": {
   "codemirror_mode": {
    "name": "ipython",
    "version": 3
   },
   "file_extension": ".py",
   "mimetype": "text/x-python",
   "name": "python",
   "nbconvert_exporter": "python",
   "pygments_lexer": "ipython3",
   "version": "3.7.2"
  }
 },
 "nbformat": 4,
 "nbformat_minor": 2
}
