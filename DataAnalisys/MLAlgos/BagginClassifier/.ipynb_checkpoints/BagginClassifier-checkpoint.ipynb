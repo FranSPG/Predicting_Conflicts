{
 "cells": [
  {
   "cell_type": "code",
   "execution_count": 1,
   "metadata": {},
   "outputs": [],
   "source": [
    "import sys\n",
    "sys.path.insert(0, 'C:/Users/Franco/Documents/AnacondaProjects/Predicting_Conflicts')\n",
    "from Libs import *\n",
    "sys.path.insert(0, 'C:/Users/Franco/Documents/AnacondaProjects/Predicting_Conflicts/DataAnalisys')\n",
    "from DataSplit import *"
   ]
  },
  {
   "cell_type": "code",
   "execution_count": 2,
   "metadata": {},
   "outputs": [
    {
     "data": {
      "text/plain": [
       "BaggingClassifier(base_estimator=None, bootstrap=True,\n",
       "         bootstrap_features=False, max_features=1.0, max_samples=1.0,\n",
       "         n_estimators=1000, n_jobs=-1, oob_score=False, random_state=None,\n",
       "         verbose=0, warm_start=False)"
      ]
     },
     "execution_count": 2,
     "metadata": {},
     "output_type": "execute_result"
    }
   ],
   "source": [
    "# Baggin Classifier\n",
    "\n",
    "# Modelo con todas las variables\n",
    "bg = BaggingClassifier(base_estimator=None, n_estimators=1000, n_jobs=-1)\n",
    "bg.fit(X_train, y_train.values.ravel())\n",
    "\n",
    "# Modelo sin las variables conflict\n",
    "bg_sin_conflictos = BaggingClassifier(base_estimator=None, n_estimators=1000, n_jobs=-1)\n",
    "bg_sin_conflictos.fit(X_train_sin_conflictos, y_train_sin_conflictos.values.ravel())\n",
    "\n",
    "# Modelo únicamente con las variables conflict\n",
    "bg_solo_conflictos = BaggingClassifier(base_estimator=None, n_estimators=1000, n_jobs=-1)\n",
    "bg_solo_conflictos.fit(X_train_solo_conflictos, y_train_solo_conflictos.values.ravel())\n",
    "\n",
    "# Modelos con 1 variable conflicto a la vez\n",
    "\n",
    "bg_c3 = BaggingClassifier(base_estimator=None, n_estimators=1000, n_jobs=-1)\n",
    "bg_c3.fit(X_train_c3, y_train_c3.values.ravel())\n",
    "bg_c5 = BaggingClassifier(base_estimator=None, n_estimators=1000, n_jobs=-1)\n",
    "bg_c5.fit(X_train_c5, y_train_c5.values.ravel())\n",
    "bg_c10 = BaggingClassifier(base_estimator=None, n_estimators=1000, n_jobs=-1)\n",
    "bg_c10.fit(X_train_c10, y_train_c10.values.ravel())"
   ]
  },
  {
   "cell_type": "code",
   "execution_count": 3,
   "metadata": {},
   "outputs": [
    {
     "name": "stdout",
     "output_type": "stream",
     "text": [
      "\n",
      "Accuracy\n",
      "\n",
      "\n",
      "Bagging Classifier\n",
      "\n",
      "Entero: 0.921036769138035\n",
      "Sin conflictos: 0.890295358649789\n",
      "Solo conflictos: 0.9132007233273056\n",
      "\n",
      "\n",
      "Pasando de a 1 conflict a la vez:\n",
      "\n",
      " conflict-3: 0.9107896323086196\n",
      "\n",
      " conflict-5: 0.8890898131404461\n",
      "\n",
      " conflict-10: 0.8975286317058468\n",
      "\n",
      "\n",
      "BG validation dataset\n",
      "0.9206896551724137\n"
     ]
    }
   ],
   "source": [
    "print(\"\\nAccuracy\\n\")\n",
    "y_pred_bg = bg.predict(X_test)\n",
    "y_pred_bg_sin_conflictos = bg_sin_conflictos.predict(X_test_sin_conflictos)\n",
    "y_pred_bg_solo_conflictos = bg_solo_conflictos.predict(X_test_solo_conflictos)\n",
    "print(\"\\nBagging Classifier\\n\\nEntero: {}\\nSin conflictos: {}\\nSolo conflictos: {}\\n\".format(accuracy_score(y_test, y_pred_bg), accuracy_score(y_test_sin_conflictos, y_pred_bg_sin_conflictos), accuracy_score(y_test_solo_conflictos, y_pred_bg_solo_conflictos)))\n",
    "\n",
    "y_pred_bg_c3 = bg_c3.predict(X_test_c3)\n",
    "y_pred_bg_c5 = bg_c5.predict(X_test_c5)\n",
    "y_pred_bg_c10 = bg_c10.predict(X_test_c10)\n",
    "print(\"\\nPasando de a 1 conflict a la vez:\\n\\n conflict-3: {}\\n\\n conflict-5: {}\\n\\n conflict-10: {}\\n\".format(accuracy_score(y_test_c3, y_pred_bg_c3), accuracy_score(y_test_c5, y_pred_bg_c5), accuracy_score(y_test_c10, y_pred_bg_c10)))\n",
    "\n",
    "# Accuracy con el dataframe de validación\n",
    "y_pred_bg_validation = bg.predict(df_validation_data)\n",
    "print(\"\\nBG validation dataset\\n{}\".format(accuracy_score(df_validation_target, y_pred_bg_validation)))"
   ]
  },
  {
   "cell_type": "code",
   "execution_count": 4,
   "metadata": {},
   "outputs": [
    {
     "name": "stdout",
     "output_type": "stream",
     "text": [
      "\n",
      "BG:\n",
      " [[1202   49]\n",
      " [  82  326]]\n",
      "\n",
      "BG validation dataset:\n",
      " [[656  37]\n",
      " [ 32 145]]\n",
      "\n",
      "Conflict-3 \n",
      "[[1209   85]\n",
      " [  63  302]]\n",
      "Conflict-5 \n",
      "[[1158   67]\n",
      " [ 117  317]]\n",
      "Conflict-10 \n",
      "[[1233   53]\n",
      " [ 117  256]]\n",
      "\n"
     ]
    }
   ],
   "source": [
    "# Matriz de confusión\n",
    "cm_bg = confusion_matrix(y_test, y_pred_bg)\n",
    "print(\"\\nBG:\\n {}\".format(cm_bg))\n",
    "\n",
    "# Matriz de confusion dataframe de validacion\n",
    "cm_bg_validation = confusion_matrix(df_validation_target, y_pred_bg_validation)\n",
    "print(\"\\nBG validation dataset:\\n {}\".format(cm_bg_validation))\n",
    "\n",
    "cm_bg_c3 = confusion_matrix(y_test_c3, y_pred_bg_c3)\n",
    "cm_bg_c5 = confusion_matrix(y_test_c5, y_pred_bg_c5)\n",
    "cm_bg_c10 = confusion_matrix(y_test_c10, y_pred_bg_c10)\n",
    "\n",
    "print(\"\\nConflict-3 \\n{}\\nConflict-5 \\n{}\\nConflict-10 \\n{}\\n\".format(cm_bg_c3, cm_bg_c5, cm_bg_c10))"
   ]
  },
  {
   "cell_type": "code",
   "execution_count": null,
   "metadata": {},
   "outputs": [],
   "source": []
  }
 ],
 "metadata": {
  "kernelspec": {
   "display_name": "Python 3",
   "language": "python",
   "name": "python3"
  },
  "language_info": {
   "codemirror_mode": {
    "name": "ipython",
    "version": 3
   },
   "file_extension": ".py",
   "mimetype": "text/x-python",
   "name": "python",
   "nbconvert_exporter": "python",
   "pygments_lexer": "ipython3",
   "version": "3.6.5"
  }
 },
 "nbformat": 4,
 "nbformat_minor": 2
}
