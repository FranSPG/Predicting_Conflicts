{
 "cells": [
  {
   "cell_type": "code",
   "execution_count": 1,
   "metadata": {},
   "outputs": [],
   "source": [
    "import sys\n",
    "sys.path.insert(0, 'C:/Users/Franco/Documents/AnacondaProjects/Predicting_Conflicts')\n",
    "from Libs import *\n",
    "sys.path.insert(0, 'C:/Users/Franco/Documents/AnacondaProjects/Predicting_Conflicts/DataAnalisys')\n",
    "from DataSplit import *"
   ]
  },
  {
   "cell_type": "code",
   "execution_count": 2,
   "metadata": {},
   "outputs": [
    {
     "data": {
      "text/plain": [
       "RandomForestClassifier(bootstrap=True, class_weight=None, criterion='gini',\n",
       "            max_depth=None, max_features='auto', max_leaf_nodes=None,\n",
       "            min_impurity_decrease=0.0, min_impurity_split=None,\n",
       "            min_samples_leaf=1, min_samples_split=2,\n",
       "            min_weight_fraction_leaf=0.0, n_estimators=1000, n_jobs=-1,\n",
       "            oob_score=False, random_state=None, verbose=0,\n",
       "            warm_start=False)"
      ]
     },
     "execution_count": 2,
     "metadata": {},
     "output_type": "execute_result"
    }
   ],
   "source": [
    "# Random Forest Classifier\n",
    "\n",
    "# Modelo con todas las variables\n",
    "rf = RandomForestClassifier(n_estimators=1000, n_jobs=-1, random_state=20)\n",
    "rf.fit(X_train, y_train.values.ravel())\n",
    "\n",
    "# Modelo sin las variables conflict\n",
    "rf_sin_conflictos = RandomForestClassifier(n_estimators=1000, n_jobs=-1)\n",
    "rf_sin_conflictos.fit(X_train_sin_conflictos, y_train_sin_conflictos.values.ravel())\n",
    "\n",
    "# Modelo únicamente con las variables conflict\n",
    "rf_solo_conflictos = RandomForestClassifier(n_estimators=1000, n_jobs=-1)\n",
    "rf_solo_conflictos.fit(X_train_solo_conflictos, y_train_solo_conflictos.values.ravel())\n",
    "\n",
    "# Modelos con 1 variable conflicto a la vez\n",
    "\n",
    "rf_c3 = RandomForestClassifier(n_estimators=1000, n_jobs=-1)\n",
    "rf_c3.fit(X_train_c3, y_train_c3.values.ravel())\n",
    "\n",
    "rf_c5 = RandomForestClassifier(n_estimators=1000, n_jobs=-1)\n",
    "rf_c5.fit(X_train_c5, y_train_c5.values.ravel())\n",
    "\n",
    "rf_c10 = RandomForestClassifier(n_estimators=1000, n_jobs=-1)\n",
    "rf_c10.fit(X_train_c10, y_train_c10.values.ravel())"
   ]
  },
  {
   "cell_type": "code",
   "execution_count": 3,
   "metadata": {},
   "outputs": [
    {
     "name": "stdout",
     "output_type": "stream",
     "text": [
      "\n",
      "Accuracy\n",
      "\n",
      "0.9132007233273056\n",
      "Random Forest\n",
      "\n",
      "Entero: 0.9132007233273056\n",
      "Sin conflictos: 0.861965039180229\n",
      "Solo conflictos: 0.9029535864978903\n",
      "\n",
      "Pasando de a 1 conflict a la vez:\n",
      "\n",
      " conflict-3: 0.9083785412899337\n",
      "\n",
      " conflict-5: 0.8975286317058468\n",
      "\n",
      " conflict-10: 0.8957203134418324\n",
      "\n",
      "\n",
      "Random Forest validation dataframe\n",
      "0.9160919540229885\n"
     ]
    }
   ],
   "source": [
    "print(\"\\nAccuracy\\n\")\n",
    "y_pred_randforest = rf.predict(X_test)\n",
    "print(accuracy_score(y_test, y_pred_randforest))\n",
    "\n",
    "\n",
    "y_pred_randforest_sin_conflictos = rf_sin_conflictos.predict(X_test_sin_conflictos)\n",
    "y_pred_randforest_solo_conflictos = rf_solo_conflictos.predict(X_test_solo_conflictos)\n",
    "print(\"Random Forest\\n\\nEntero: {}\\nSin conflictos: {}\\nSolo conflictos: {}\\n\".format(accuracy_score(y_test, y_pred_randforest), accuracy_score(y_test_sin_conflictos, y_pred_randforest_sin_conflictos), accuracy_score(y_test_solo_conflictos, y_pred_randforest_solo_conflictos)))\n",
    "\n",
    "y_pred_rf_c3 = rf_c3.predict(X_test_c3)\n",
    "y_pred_rf_c5 = rf_c5.predict(X_test_c5)\n",
    "y_pred_rf_c10 = rf_c10.predict(X_test_c10)\n",
    "print(\"Pasando de a 1 conflict a la vez:\\n\\n conflict-3: {}\\n\\n conflict-5: {}\\n\\n conflict-10: {}\\n\".format(accuracy_score(y_test_c3, y_pred_rf_c3), accuracy_score(y_test_c5, y_pred_rf_c5), accuracy_score(y_test_c10, y_pred_rf_c10)))\n",
    "\n",
    "# Accuracy con el dataframe de validación (Todas las variables)\n",
    "y_pred_randforest_validation = rf.predict(df_validation_data)\n",
    "print(\"\\nRandom Forest validation dataframe\\n{}\".format(accuracy_score(df_validation_target, y_pred_randforest_validation)))\n"
   ]
  },
  {
   "cell_type": "code",
   "execution_count": 4,
   "metadata": {},
   "outputs": [
    {
     "name": "stdout",
     "output_type": "stream",
     "text": [
      "\n",
      "RandForest:\n",
      " [[1216   63]\n",
      " [  81  299]]\n",
      "\n",
      "Random Forest validation dataframe:\n",
      "[[655  38]\n",
      " [ 35 142]]\n",
      "\n",
      "Conflict-3 \n",
      "[[1167   70]\n",
      " [  82  340]]\n",
      "Conflict-5 \n",
      "[[1189   59]\n",
      " [ 111  300]]\n",
      "Conflict-10 \n",
      "[[1203   56]\n",
      " [ 117  283]]\n",
      "\n"
     ]
    }
   ],
   "source": [
    "# Matriz de confusión\n",
    "cm_rf = confusion_matrix(y_test, y_pred_randforest)\n",
    "print(\"\\nRandForest:\\n {}\".format(cm_rf))\n",
    "\n",
    "## Matriz de confusión dataframe de validacion\n",
    "cm_rf_validation = confusion_matrix(df_validation_target, y_pred_randforest_validation)\n",
    "print(\"\\nRandom Forest validation dataframe:\\n{}\".format(cm_rf_validation))\n",
    "\n",
    "# Matriz de confusion variables conflict\n",
    "cm_rf_c3 = confusion_matrix(y_test_c3, y_pred_rf_c3)\n",
    "cm_rf_c5 = confusion_matrix(y_test_c5, y_pred_rf_c5)\n",
    "cm_rf_c10 = confusion_matrix(y_test_c10, y_pred_rf_c10)\n",
    "print(\"\\nConflict-3 \\n{}\\nConflict-5 \\n{}\\nConflict-10 \\n{}\\n\".format(cm_rf_c3, cm_rf_c5, cm_rf_c10))"
   ]
  },
  {
   "cell_type": "code",
   "execution_count": null,
   "metadata": {},
   "outputs": [],
   "source": []
  }
 ],
 "metadata": {
  "kernelspec": {
   "display_name": "Python 3",
   "language": "python",
   "name": "python3"
  },
  "language_info": {
   "codemirror_mode": {
    "name": "ipython",
    "version": 3
   },
   "file_extension": ".py",
   "mimetype": "text/x-python",
   "name": "python",
   "nbconvert_exporter": "python",
   "pygments_lexer": "ipython3",
   "version": "3.6.5"
  }
 },
 "nbformat": 4,
 "nbformat_minor": 2
}
