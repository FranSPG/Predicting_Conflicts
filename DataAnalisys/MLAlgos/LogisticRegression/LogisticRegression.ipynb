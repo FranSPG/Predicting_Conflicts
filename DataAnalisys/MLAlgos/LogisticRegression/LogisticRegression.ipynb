{
 "cells": [
  {
   "cell_type": "code",
   "execution_count": 1,
   "metadata": {},
   "outputs": [],
   "source": [
    "import sys\n",
    "sys.path.insert(0, 'C:/Users/Franco/Documents/AnacondaProjects/Predicting_Conflicts')\n",
    "from Libs import *\n",
    "sys.path.insert(0, 'C:/Users/Franco/Documents/AnacondaProjects/Predicting_Conflicts/DataAnalisys')\n",
    "from DataSplit import *"
   ]
  },
  {
   "cell_type": "code",
   "execution_count": 2,
   "metadata": {},
   "outputs": [
    {
     "data": {
      "text/plain": [
       "LogisticRegression(C=1.0, class_weight=None, dual=False, fit_intercept=True,\n",
       "          intercept_scaling=1, max_iter=100, multi_class='ovr', n_jobs=1,\n",
       "          penalty='l2', random_state=None, solver='liblinear', tol=0.0001,\n",
       "          verbose=0, warm_start=False)"
      ]
     },
     "execution_count": 2,
     "metadata": {},
     "output_type": "execute_result"
    }
   ],
   "source": [
    "# Logistic Regression\n",
    "\n",
    "# Modelo con todas las variables\n",
    "classifier = linear_model.LogisticRegression()\n",
    "classifier.fit(X_train, y_train.values.ravel())\n",
    "\n",
    "# Modelo sin las variables conflict\n",
    "classifier_sin_conflictos = linear_model.LogisticRegression()\n",
    "classifier_sin_conflictos.fit(X_train_sin_conflictos, y_train_sin_conflictos.values.ravel())\n",
    "\n",
    "# Modelo únicamente con las variables conflict\n",
    "classifier_solo_conflictos = linear_model.LogisticRegression()\n",
    "classifier_solo_conflictos.fit(X_train_solo_conflictos, y_train_solo_conflictos.values.ravel())\n",
    "\n",
    "# Modelos con 1 variable conflicto a la vez\n",
    "\n",
    "classifier_c3 = linear_model.LogisticRegression()\n",
    "classifier_c3.fit(X_train_c3, y_train_c3.values.ravel())\n",
    "\n",
    "classifier_c5 = linear_model.LogisticRegression()\n",
    "classifier_c5.fit(X_train_c5, y_train_c5.values.ravel())\n",
    "\n",
    "classifier_c10 = linear_model.LogisticRegression()\n",
    "classifier_c10.fit(X_train_c10, y_train_c10.values.ravel())"
   ]
  },
  {
   "cell_type": "code",
   "execution_count": 3,
   "metadata": {},
   "outputs": [
    {
     "name": "stdout",
     "output_type": "stream",
     "text": [
      "\n",
      "Accuracy\n",
      "\n",
      "Logistic Regression\n",
      "\n",
      "Entero: 0.743801652892562\n",
      "Sin conflictos: 0.7586776859504132\n",
      "Solo conflictos: 0.7338842975206612\n",
      "\n",
      "Pasando de a 1 conflict a la vez:\n",
      "\n",
      " conflict-3: 0.7603305785123967\n",
      "\n",
      " conflict-5: 0.6611570247933884\n",
      "\n",
      " conflict-10: 0.7338842975206612\n",
      "\n",
      "\n",
      "Logistic Regression validation dataframe\n",
      "0.7790262172284644\n"
     ]
    }
   ],
   "source": [
    "print(\"\\nAccuracy\\n\")\n",
    "y_pred_logregr = classifier.predict(X_test)\n",
    "y_pred_logregr_sin_conflictos = classifier_sin_conflictos.predict(X_test_sin_conflictos)\n",
    "y_pred_logregr_solo_conflictos = classifier_solo_conflictos.predict(X_test_solo_conflictos)\n",
    "print(\"Logistic Regression\\n\\nEntero: {}\\nSin conflictos: {}\\nSolo conflictos: {}\\n\".format(accuracy_score(y_test, y_pred_logregr), accuracy_score(y_test_sin_conflictos, y_pred_logregr_sin_conflictos), accuracy_score(y_test_solo_conflictos, y_pred_logregr_solo_conflictos)))\n",
    "\n",
    "y_pred_lr_c3 = classifier_c3.predict(X_test_c3)\n",
    "y_pred_lr_c5 = classifier_c5.predict(X_test_c5)\n",
    "y_pred_lr_c10 = classifier_c10.predict(X_test_c10)\n",
    "\n",
    "print(\"Pasando de a 1 conflict a la vez:\\n\\n conflict-3: {}\\n\\n conflict-5: {}\\n\\n conflict-10: {}\\n\".format(accuracy_score(y_test_c3, y_pred_lr_c3), accuracy_score(y_test_c5, y_pred_lr_c5), accuracy_score(y_test_c10, y_pred_lr_c10)))\n",
    "\n",
    "# Accuracy con el dataframe de validación (Todas las variables)\n",
    "y_pred_logregr_validation = classifier.predict(df_validation_data)\n",
    "print(\"\\nLogistic Regression validation dataframe\\n{}\".format(accuracy_score(df_validation_target, y_pred_logregr_validation)))"
   ]
  },
  {
   "cell_type": "code",
   "execution_count": 4,
   "metadata": {},
   "outputs": [
    {
     "name": "stdout",
     "output_type": "stream",
     "text": [
      "\n",
      "LogRegression dataset entero:\n",
      " [[444   3]\n",
      " [152   6]]\n",
      "\n",
      "LogRegression validation dataframe:\n",
      " [[201   1]\n",
      " [ 58   7]]\n",
      "\n",
      "Conflict-3 \n",
      "[[452   3]\n",
      " [142   8]]\n",
      "Conflict-5 \n",
      "[[360 108]\n",
      " [ 97  40]]\n",
      "Conflict-10 \n",
      "[[429  26]\n",
      " [135  15]]\n",
      "\n"
     ]
    }
   ],
   "source": [
    "# Matriz de confusión\n",
    "cm_logreg = confusion_matrix(y_test, y_pred_logregr)\n",
    "print(\"\\nLogRegression dataset entero:\\n {}\".format(cm_logreg))\n",
    "\n",
    "# Matriz de confusión dataframe de validacion\n",
    "cm_logreg_validation = confusion_matrix(df_validation_target, y_pred_logregr_validation)\n",
    "print(\"\\nLogRegression validation dataframe:\\n {}\".format(cm_logreg_validation))\n",
    "\n",
    "# Matriz de confusion variables conflict\n",
    "cm_lr_c3 = confusion_matrix(y_test_c3, y_pred_lr_c3)\n",
    "cm_lr_c5 = confusion_matrix(y_test_c5, y_pred_lr_c5)\n",
    "cm_lr_c10 = confusion_matrix(y_test_c10, y_pred_lr_c10)\n",
    "print(\"\\nConflict-3 \\n{}\\nConflict-5 \\n{}\\nConflict-10 \\n{}\\n\".format(cm_lr_c3, cm_lr_c5, cm_lr_c10))"
   ]
  },
  {
   "cell_type": "code",
   "execution_count": null,
   "metadata": {},
   "outputs": [],
   "source": [
    "f1_score(y_test, y_pred_logregr)"
   ]
  }
 ],
 "metadata": {
  "kernelspec": {
   "display_name": "Python 3",
   "language": "python",
   "name": "python3"
  },
  "language_info": {
   "codemirror_mode": {
    "name": "ipython",
    "version": 3
   },
   "file_extension": ".py",
   "mimetype": "text/x-python",
   "name": "python",
   "nbconvert_exporter": "python",
   "pygments_lexer": "ipython3",
   "version": "3.6.5"
  }
 },
 "nbformat": 4,
 "nbformat_minor": 2
}
