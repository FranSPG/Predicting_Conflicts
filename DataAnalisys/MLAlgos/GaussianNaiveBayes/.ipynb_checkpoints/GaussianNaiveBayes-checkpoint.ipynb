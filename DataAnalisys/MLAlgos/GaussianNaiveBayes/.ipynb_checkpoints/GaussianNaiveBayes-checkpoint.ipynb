{
 "cells": [
  {
   "cell_type": "code",
   "execution_count": 1,
   "metadata": {},
   "outputs": [],
   "source": [
    "import sys\n",
    "sys.path.insert(0, 'C:/Users/Franco/Documents/AnacondaProjects/Predicting_Conflicts')\n",
    "from Libs import *\n",
    "sys.path.insert(0, 'C:/Users/Franco/Documents/AnacondaProjects/Predicting_Conflicts/DataAnalisys')\n",
    "from DataSplit import *"
   ]
  },
  {
   "cell_type": "code",
   "execution_count": 2,
   "metadata": {},
   "outputs": [
    {
     "data": {
      "text/plain": [
       "GaussianNB(priors=None)"
      ]
     },
     "execution_count": 2,
     "metadata": {},
     "output_type": "execute_result"
    }
   ],
   "source": [
    "# Gaussian Naive Bayes\n",
    "\n",
    "# Modelo con todas las variables\n",
    "gnb = GaussianNB()\n",
    "gnb.fit(X_train, y_train.values.ravel())\n",
    "\n",
    "# Modelo sin las variables conflict\n",
    "gnb_sin_conflictos = GaussianNB()\n",
    "gnb_sin_conflictos.fit(X_train_sin_conflictos, y_train_sin_conflictos.values.ravel())\n",
    "\n",
    "# Modelo únicamente con las variables conflict\n",
    "gnb_solo_conflictos = GaussianNB()\n",
    "gnb_solo_conflictos.fit(X_train_solo_conflictos, y_train_solo_conflictos.values.ravel())\n",
    "\n",
    "# Modelos con 1 variable conflicto a la vez\n",
    "\n",
    "gnb_c3 = GaussianNB()\n",
    "gnb_c3.fit(X_train_c3, y_train_c3.values.ravel())\n",
    "gnb_c5 = GaussianNB()\n",
    "gnb_c5.fit(X_train_c5, y_train_c5.values.ravel())\n",
    "gnb_c10 = GaussianNB()\n",
    "gnb_c10.fit(X_train_c10, y_train_c10.values.ravel())"
   ]
  },
  {
   "cell_type": "code",
   "execution_count": 3,
   "metadata": {},
   "outputs": [
    {
     "name": "stdout",
     "output_type": "stream",
     "text": [
      "\n",
      "Accuracy\n",
      "\n",
      "\n",
      "Gaussian Naive Bayes\n",
      "\n",
      "Entero: 0.7603305785123967\n",
      "Sin conflictos: 0.7619834710743801\n",
      "Solo conflictos: 0.7454545454545455\n",
      "\n",
      "\n",
      "Pasando de a 1 conflict a la vez:\n",
      "\n",
      " conflict-3: 0.7619834710743801\n",
      "\n",
      " conflict-5: 0.7884297520661157\n",
      "\n",
      " conflict-10: 0.7520661157024794\n",
      "\n",
      "\n",
      "GNB validation dataframe\n",
      "0.7752808988764045\n"
     ]
    }
   ],
   "source": [
    "print(\"\\nAccuracy\\n\")\n",
    "y_pred_gnb = gnb.predict(X_test)\n",
    "y_pred_gnb_sin_conflictos = gnb_sin_conflictos.predict(X_test_sin_conflictos)\n",
    "y_pred_gnb_solo_conflictos = gnb_solo_conflictos.predict(X_test_solo_conflictos)\n",
    "print(\"\\nGaussian Naive Bayes\\n\\nEntero: {}\\nSin conflictos: {}\\nSolo conflictos: {}\\n\".format(accuracy_score(y_test, y_pred_gnb), accuracy_score(y_test_sin_conflictos, y_pred_gnb_sin_conflictos), accuracy_score(y_test_solo_conflictos, y_pred_gnb_solo_conflictos)))\n",
    "\n",
    "y_pred_gnb_c3 = gnb_c3.predict(X_test_c3)\n",
    "y_pred_gnb_c5 = gnb_c5.predict(X_test_c5)\n",
    "y_pred_gnb_c10 = gnb_c10.predict(X_test_c10)\n",
    "print(\"\\nPasando de a 1 conflict a la vez:\\n\\n conflict-3: {}\\n\\n conflict-5: {}\\n\\n conflict-10: {}\\n\".format(accuracy_score(y_test_c3, y_pred_gnb_c3), accuracy_score(y_test_c5, y_pred_gnb_c5), accuracy_score(y_test_c10, y_pred_gnb_c10)))\n",
    "\n",
    "# Accuracy con el dataframe de validación\n",
    "y_pred_gnb_validation = gnb.predict(df_validation_data)\n",
    "print(\"\\nGNB validation dataframe\\n{}\".format(accuracy_score(df_validation_target, y_pred_gnb_validation)))\n"
   ]
  },
  {
   "cell_type": "code",
   "execution_count": 4,
   "metadata": {},
   "outputs": [
    {
     "name": "stdout",
     "output_type": "stream",
     "text": [
      "\n",
      "GNB:\n",
      " [[451   8]\n",
      " [137   9]]\n",
      "\n",
      "GNB validation dataframe:\n",
      " [[200   2]\n",
      " [ 58   7]]\n",
      "\n",
      "Conflict-3 \n",
      "[[450   5]\n",
      " [139  11]]\n",
      "Conflict-5 \n",
      "[[461   4]\n",
      " [124  16]]\n",
      "Conflict-10 \n",
      "[[439   2]\n",
      " [148  16]]\n",
      "\n"
     ]
    }
   ],
   "source": [
    "# Matriz de confusión\n",
    "cm_gnb = confusion_matrix(y_test, y_pred_gnb)\n",
    "print(\"\\nGNB:\\n {}\".format(cm_gnb))\n",
    "\n",
    "# Matriz de confusion dataframe de validacion\n",
    "cm_gnb_validation = confusion_matrix(df_validation_target, y_pred_gnb_validation)\n",
    "print(\"\\nGNB validation dataframe:\\n {}\".format(cm_gnb_validation))\n",
    "\n",
    "# Matriz de confusion variables conflict\n",
    "cm_gnb_c3 = confusion_matrix(y_test_c3, y_pred_gnb_c3)\n",
    "cm_gnb_c5 = confusion_matrix(y_test_c5, y_pred_gnb_c5)\n",
    "cm_gnb_c10 = confusion_matrix(y_test_c10, y_pred_gnb_c10)\n",
    "print(\"\\nConflict-3 \\n{}\\nConflict-5 \\n{}\\nConflict-10 \\n{}\\n\".format(cm_gnb_c3, cm_gnb_c5, cm_gnb_c10))"
   ]
  },
  {
   "cell_type": "code",
   "execution_count": null,
   "metadata": {},
   "outputs": [],
   "source": []
  }
 ],
 "metadata": {
  "kernelspec": {
   "display_name": "Python 3",
   "language": "python",
   "name": "python3"
  },
  "language_info": {
   "codemirror_mode": {
    "name": "ipython",
    "version": 3
   },
   "file_extension": ".py",
   "mimetype": "text/x-python",
   "name": "python",
   "nbconvert_exporter": "python",
   "pygments_lexer": "ipython3",
   "version": "3.6.5"
  }
 },
 "nbformat": 4,
 "nbformat_minor": 2
}
