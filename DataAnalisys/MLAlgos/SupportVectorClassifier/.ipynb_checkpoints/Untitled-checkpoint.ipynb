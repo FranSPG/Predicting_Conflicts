{
 "cells": [
  {
   "cell_type": "code",
   "execution_count": 1,
   "metadata": {},
   "outputs": [],
   "source": [
    "import sys\n",
    "sys.path.insert(0, 'C:/Users/Franco/Documents/AnacondaProjects/Predicting_Conflicts')\n",
    "from Libs import *\n",
    "sys.path.insert(0, 'C:/Users/Franco/Documents/AnacondaProjects/Predicting_Conflicts/DataAnalisys')\n",
    "from DataSplit import *"
   ]
  },
  {
   "cell_type": "code",
   "execution_count": 2,
   "metadata": {},
   "outputs": [
    {
     "data": {
      "text/plain": [
       "SVC(C=1.0, cache_size=200, class_weight=None, coef0=0.0,\n",
       "  decision_function_shape='ovr', degree=3, gamma='auto', kernel='rbf',\n",
       "  max_iter=-1, probability=False, random_state=None, shrinking=True,\n",
       "  tol=0.001, verbose=False)"
      ]
     },
     "execution_count": 2,
     "metadata": {},
     "output_type": "execute_result"
    }
   ],
   "source": [
    "# Support Vector Classifier\n",
    "\n",
    "# Modelo con todas las variables\n",
    "svc = SVC()\n",
    "svc.fit(X_train, y_train.values.ravel())\n",
    "\n",
    "# Modelo sin las variables conflict\n",
    "svc_sin_conflictos = SVC()\n",
    "svc_sin_conflictos.fit(X_train_sin_conflictos, y_train_sin_conflictos.values.ravel())\n",
    "\n",
    "# Modelo únicamente con las variables conflict\n",
    "svc_solo_conflictos = SVC()\n",
    "svc_solo_conflictos.fit(X_train_solo_conflictos, y_train_solo_conflictos.values.ravel())\n",
    "\n",
    "\n",
    "# Modelos con 1 variable conflicto a la vez\n",
    "\n",
    "svc_c3 = SVC()\n",
    "svc_c3.fit(X_train_c3, y_train_c3.values.ravel())\n",
    "\n",
    "svc_c5 = SVC()\n",
    "svc_c5.fit(X_train_c5, y_train_c5.values.ravel())\n",
    "\n",
    "svc_c10 = SVC()\n",
    "svc_c10.fit(X_train_c10, y_train_c10.values.ravel())\n"
   ]
  },
  {
   "cell_type": "code",
   "execution_count": 3,
   "metadata": {},
   "outputs": [
    {
     "name": "stdout",
     "output_type": "stream",
     "text": [
      "\n",
      "Accuracy\n",
      "\n",
      "\n",
      "Support Vector Classification\n",
      "\n",
      "Entero: 0.8010849909584087\n",
      "Sin conflictos: 0.7938517179023508\n",
      "Solo conflictos: 0.8993369499698614\n",
      "\n",
      "Pasando de a 1 conflict a la vez:\n",
      "\n",
      " conflict-3: 0.7944544906570223\n",
      "\n",
      " conflict-5: 0.7986738999397227\n",
      "\n",
      " conflict-10: 0.7781796262808921\n",
      "\n",
      "\n",
      "Support Vector Classification validation dataframe\n",
      "0.8241379310344827\n"
     ]
    }
   ],
   "source": [
    "print(\"\\nAccuracy\\n\")\n",
    "\n",
    "y_pred_svc = svc.predict(X_test)\n",
    "y_pred_svc_sin_conflictos = svc_sin_conflictos.predict(X_test_sin_conflictos)\n",
    "y_pred_svc_solo_conflictos = svc_solo_conflictos.predict(X_test_solo_conflictos)\n",
    "print(\"\\nSupport Vector Classification\\n\\nEntero: {}\\nSin conflictos: {}\\nSolo conflictos: {}\\n\".format(accuracy_score(y_test, y_pred_svc), accuracy_score(y_test_sin_conflictos, y_pred_svc_sin_conflictos), accuracy_score(y_test_solo_conflictos, y_pred_svc_solo_conflictos)))\n",
    "\n",
    "y_pred_svc_c3 = svc_c3.predict(X_test_c3)\n",
    "y_pred_svc_c5 = svc_c5.predict(X_test_c5)\n",
    "y_pred_svc_c10 = svc_c10.predict(X_test_c10)\n",
    "print(\"Pasando de a 1 conflict a la vez:\\n\\n conflict-3: {}\\n\\n conflict-5: {}\\n\\n conflict-10: {}\\n\".format(accuracy_score(y_test_c3, y_pred_svc_c3), accuracy_score(y_test_c5, y_pred_svc_c5), accuracy_score(y_test_c10, y_pred_svc_c10)))\n",
    "\n",
    "# Accuracy con el dataframe de validación\n",
    "y_pred_svc_validation = svc.predict(df_validation_data)\n",
    "print(\"\\nSupport Vector Classification validation dataframe\\n{}\".format(accuracy_score(df_validation_target, y_pred_svc_validation)))\n",
    "\n"
   ]
  },
  {
   "cell_type": "code",
   "execution_count": 4,
   "metadata": {},
   "outputs": [
    {
     "name": "stdout",
     "output_type": "stream",
     "text": [
      "\n",
      "SVC:\n",
      " [[1253   10]\n",
      " [ 320   76]]\n",
      "\n",
      "SVC validation dataframe:\n",
      " [[687   6]\n",
      " [147  30]]\n",
      "\n",
      "Conflict-3 \n",
      "[[1251    4]\n",
      " [ 337   67]]\n",
      "Conflict-5 \n",
      "[[1262    3]\n",
      " [ 331   63]]\n",
      "Conflict-10 \n",
      "[[1228    7]\n",
      " [ 361   63]]\n",
      "\n"
     ]
    }
   ],
   "source": [
    "# Matriz de confusión\n",
    "cm_svc = confusion_matrix(y_test, y_pred_svc)\n",
    "print(\"\\nSVC:\\n {}\".format(cm_svc))\n",
    "\n",
    "# Matriz de confusion dataframe de validacion\n",
    "cm_svc_validation = confusion_matrix(df_validation_target, y_pred_svc_validation)\n",
    "print(\"\\nSVC validation dataframe:\\n {}\".format(cm_svc_validation))\n",
    "\n",
    "# Matriz de confusion variables conflict\n",
    "cm_svc_c3 = confusion_matrix(y_test_c3, y_pred_svc_c3)\n",
    "cm_svc_c5 = confusion_matrix(y_test_c5, y_pred_svc_c5)\n",
    "cm_svc_c10 = confusion_matrix(y_test_c10, y_pred_svc_c10)\n",
    "print(\"\\nConflict-3 \\n{}\\nConflict-5 \\n{}\\nConflict-10 \\n{}\\n\".format(cm_svc_c3, cm_svc_c5, cm_svc_c10))\n"
   ]
  },
  {
   "cell_type": "code",
   "execution_count": null,
   "metadata": {},
   "outputs": [],
   "source": []
  }
 ],
 "metadata": {
  "kernelspec": {
   "display_name": "Python 3",
   "language": "python",
   "name": "python3"
  },
  "language_info": {
   "codemirror_mode": {
    "name": "ipython",
    "version": 3
   },
   "file_extension": ".py",
   "mimetype": "text/x-python",
   "name": "python",
   "nbconvert_exporter": "python",
   "pygments_lexer": "ipython3",
   "version": "3.6.5"
  }
 },
 "nbformat": 4,
 "nbformat_minor": 2
}
